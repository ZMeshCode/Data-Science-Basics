{
 "cells": [
  {
   "cell_type": "code",
   "execution_count": 1,
   "id": "f3a8dc9d-9a30-4887-b963-010e1994a9a0",
   "metadata": {},
   "outputs": [],
   "source": [
    "import pandas as pd\n",
    "from sklearn.model_selection import train_test_split\n",
    "from sklearn.tree import DecisionTreeClassifier\n",
    "from sklearn.ensemble import RandomForestClassifier\n",
    "from sklearn.metrics import accuracy_score\n",
    "import numpy as np"
   ]
  },
  {
   "cell_type": "code",
   "execution_count": 3,
   "id": "c057ff1a-59e3-469f-bf96-a44c47a4b780",
   "metadata": {},
   "outputs": [],
   "source": [
    "data = pd.read_csv('Assignment 4-blues_hand.csv')"
   ]
  },
  {
   "cell_type": "code",
   "execution_count": 5,
   "id": "f494a977-7218-473c-ba24-3aeaf447b552",
   "metadata": {},
   "outputs": [
    {
     "name": "stdout",
     "output_type": "stream",
     "text": [
      "               name state  brthYr  post1906  region  handPost  thumbSty\n",
      "0      Henry Thomas    TX    1874         0       3         1         3\n",
      "1      Frank Stokes    TN    1887         0       2         1         3\n",
      "2       Sam Collins    MS    1887         0       2         1         2\n",
      "3    Peg Leg Howell    GA    1888         0       1         2         2\n",
      "4  Huddie Ledbetter    TX    1888         0       3         2         3\n"
     ]
    }
   ],
   "source": [
    "print(data.head())"
   ]
  },
  {
   "cell_type": "code",
   "execution_count": 9,
   "id": "b45ba2c1-9de1-47b8-9286-520245d35282",
   "metadata": {},
   "outputs": [],
   "source": [
    "# Features without region\n",
    "X = data[['handPost', 'thumbSty']] \n",
    "y = data['post1906']  # Target variable (0 or 1 for birth year)\n",
    "\n",
    "# Features with region\n",
    "X_with_region = data[['handPost', 'thumbSty', 'region']]"
   ]
  },
  {
   "cell_type": "code",
   "execution_count": 11,
   "id": "708b154f-d741-4a52-a60f-dcc78a19bdf2",
   "metadata": {},
   "outputs": [
    {
     "name": "stdout",
     "output_type": "stream",
     "text": [
      "Decision Tree Accuracy without Region: 0.6316\n"
     ]
    }
   ],
   "source": [
    "# Split the dataset into training and testing sets (80% train, 20% test)\n",
    "X_train, X_test, y_train, y_test = train_test_split(X, y, test_size=0.2, random_state=42)\n",
    "\n",
    "# Initialize the Decision Tree classifier\n",
    "dt_classifier = DecisionTreeClassifier(random_state=42)\n",
    "\n",
    "# Train the model\n",
    "dt_classifier.fit(X_train, y_train)\n",
    "\n",
    "# Predict the test set\n",
    "y_pred = dt_classifier.predict(X_test)\n",
    "\n",
    "# Calculate accuracy\n",
    "accuracy_no_region = accuracy_score(y_test, y_pred)\n",
    "print(f\"Decision Tree Accuracy without Region: {accuracy_no_region:.4f}\")"
   ]
  },
  {
   "cell_type": "code",
   "execution_count": 13,
   "id": "cc83dbe3-bc16-4b4b-ae69-f18a5ed681d9",
   "metadata": {},
   "outputs": [
    {
     "name": "stdout",
     "output_type": "stream",
     "text": [
      "Decision Tree Accuracy with Region: 0.4737\n"
     ]
    }
   ],
   "source": [
    "# Split the dataset into training and testing sets (80% train, 20% test) with Region\n",
    "X_train_region, X_test_region, y_train, y_test = train_test_split(X_with_region, y, test_size=0.2, random_state=42)\n",
    "\n",
    "# Initialize the Decision Tree classifier\n",
    "dt_classifier_region = DecisionTreeClassifier(random_state=42)\n",
    "\n",
    "# Train the model\n",
    "dt_classifier_region.fit(X_train_region, y_train)\n",
    "\n",
    "# Predict the test set\n",
    "y_pred_region = dt_classifier_region.predict(X_test_region)\n",
    "\n",
    "# Calculate accuracy\n",
    "accuracy_with_region = accuracy_score(y_test, y_pred_region)\n",
    "print(f\"Decision Tree Accuracy with Region: {accuracy_with_region:.4f}\")"
   ]
  },
  {
   "cell_type": "code",
   "execution_count": 15,
   "id": "7b546ca3-b475-4d35-ab15-e50e9528fa34",
   "metadata": {},
   "outputs": [
    {
     "name": "stdout",
     "output_type": "stream",
     "text": [
      "Random Forest Accuracy with Region: 0.4211\n"
     ]
    }
   ],
   "source": [
    "# Initialize the Random Forest classifier\n",
    "rf_classifier_region = RandomForestClassifier(random_state=42)\n",
    "\n",
    "# Train the model\n",
    "rf_classifier_region.fit(X_train_region, y_train)\n",
    "\n",
    "# Predict the test set\n",
    "y_pred_rf_region = rf_classifier_region.predict(X_test_region)\n",
    "\n",
    "# Calculate accuracy\n",
    "accuracy_rf_with_region = accuracy_score(y_test, y_pred_rf_region)\n",
    "print(f\"Random Forest Accuracy with Region: {accuracy_rf_with_region:.4f}\")"
   ]
  },
  {
   "cell_type": "code",
   "execution_count": 19,
   "id": "dedb6aa0-f646-44de-a5e2-6ead54e42862",
   "metadata": {},
   "outputs": [
    {
     "name": "stdout",
     "output_type": "stream",
     "text": [
      "Decision Tree without Region - Avg: 0.5684, Min: 0.3684, Max: 0.6842\n",
      "Decision Tree with Region - Avg: 0.5316, Min: 0.3684, Max: 0.6316\n",
      "Random Forest without Region - Avg: 0.5684, Min: 0.4211, Max: 0.6842\n",
      "Random Forest with Region - Avg: 0.5368, Min: 0.3684, Max: 0.6842\n"
     ]
    }
   ],
   "source": [
    "# Initialize the Random Forest classifier\n",
    "rf_classifier = RandomForestClassifier(random_state=42)\n",
    "# Function to run the model multiple times and calculate average accuracy and range\n",
    "def run_model_multiple_times(model, X, y, n_runs=10):\n",
    "    accuracies = []\n",
    "    for _ in range(n_runs):\n",
    "        X_train, X_test, y_train, y_test = train_test_split(X, y, test_size=0.2, random_state=np.random.randint(1000))\n",
    "        model.fit(X_train, y_train)\n",
    "        y_pred = model.predict(X_test)\n",
    "        accuracies.append(accuracy_score(y_test, y_pred))\n",
    "    return np.mean(accuracies), np.min(accuracies), np.max(accuracies)\n",
    "\n",
    "# Running decision tree without region\n",
    "mean_acc, min_acc, max_acc = run_model_multiple_times(dt_classifier, X, y)\n",
    "print(f\"Decision Tree without Region - Avg: {mean_acc:.4f}, Min: {min_acc:.4f}, Max: {max_acc:.4f}\")\n",
    "\n",
    "# Running decision tree with region\n",
    "mean_acc_region, min_acc_region, max_acc_region = run_model_multiple_times(dt_classifier_region, X_with_region, y)\n",
    "print(f\"Decision Tree with Region - Avg: {mean_acc_region:.4f}, Min: {min_acc_region:.4f}, Max: {max_acc_region:.4f}\")\n",
    "\n",
    "# Running random forest without region\n",
    "mean_acc_rf, min_acc_rf, max_acc_rf = run_model_multiple_times(rf_classifier, X, y)\n",
    "print(f\"Random Forest without Region - Avg: {mean_acc_rf:.4f}, Min: {min_acc_rf:.4f}, Max: {max_acc_rf:.4f}\")\n",
    "\n",
    "# Running random forest with region\n",
    "mean_acc_rf_region, min_acc_rf_region, max_acc_rf_region = run_model_multiple_times(rf_classifier_region, X_with_region, y)\n",
    "print(f\"Random Forest with Region - Avg: {mean_acc_rf_region:.4f}, Min: {min_acc_rf_region:.4f}, Max: {max_acc_rf_region:.4f}\")"
   ]
  },
  {
   "cell_type": "code",
   "execution_count": null,
   "id": "e489179e-7fcf-48a1-80fb-f4da5990b7a1",
   "metadata": {},
   "outputs": [],
   "source": []
  }
 ],
 "metadata": {
  "kernelspec": {
   "display_name": "Python 3 (ipykernel)",
   "language": "python",
   "name": "python3"
  },
  "language_info": {
   "codemirror_mode": {
    "name": "ipython",
    "version": 3
   },
   "file_extension": ".py",
   "mimetype": "text/x-python",
   "name": "python",
   "nbconvert_exporter": "python",
   "pygments_lexer": "ipython3",
   "version": "3.12.4"
  }
 },
 "nbformat": 4,
 "nbformat_minor": 5
}
