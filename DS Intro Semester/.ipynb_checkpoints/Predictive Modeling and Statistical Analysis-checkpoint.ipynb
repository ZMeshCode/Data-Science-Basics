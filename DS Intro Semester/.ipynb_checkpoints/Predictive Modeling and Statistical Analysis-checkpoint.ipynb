{
 "cells": [
  {
   "cell_type": "markdown",
   "id": "1461b6bb",
   "metadata": {},
   "source": [
    "# IMT 573 - Problem Set 8 - Prediction"
   ]
  },
  {
   "cell_type": "markdown",
   "id": "1cf60757",
   "metadata": {},
   "source": [
    "### Instructions\n",
    "\n",
    "Before beginning this assignment, please ensure you have access to a working instance of Jupyter Notebooks with Python 3.\n",
    "\n",
    "1. First, replace the “YOUR NAME HERE” text in the next cell with your own full name. Any collaborators must also be listed in this cell.\n",
    "\n",
    "2. Be sure to include well-documented (e.g. commented) code cells, figures, and clearly written text  explanations as necessary. Any figures should be clearly labeled and appropriately referenced within the text. Be sure that each visualization adds value to your written explanation; avoid redundancy – you do no need four different visualizations of the same pattern.\n",
    "\n",
    "3. Collaboration on problem sets and labs is fun, useful, and encouraged. However, each student must turn in an individual write-up in their own words as well as code/work that is their own. Regardless of whether you work with others, what you turn in must be your own work; this includes code and interpretation of results. The names of all collaborators must be listed on each assignment. Do not copy-and-paste from other students’ responses or code - your code should never be on any other student's screen or machine.\n",
    "\n",
    "4. All materials and resources that you use (with the exception of lecture slides) must be appropriately referenced within your assignment.\n",
    "\n",
    "5. Partial credit will be awarded for each question for which a serious attempt at finding an answer has been shown. Students are *strongly* encouraged to attempt each question and document their reasoning process even if they cannot find the correct answer. \n",
    "\n",
    "6. After completing the assignment, ensure that your code can run from start to finish without issue. Restart the kernal and run all cells to double check."
   ]
  },
  {
   "cell_type": "markdown",
   "id": "aadc8a3b",
   "metadata": {},
   "source": [
    "Name: Bobby Meshesha\n",
    "\n",
    "Collaborators: "
   ]
  },
  {
   "cell_type": "markdown",
   "id": "96d9bc8b",
   "metadata": {},
   "source": [
    "For this assignment, you'll need (at least) the following packages. If the package does not load, be sure it is properly installed."
   ]
  },
  {
   "cell_type": "code",
   "execution_count": 5,
   "id": "49fc54ea",
   "metadata": {},
   "outputs": [],
   "source": [
    "import pandas as pd\n",
    "import numpy as np\n",
    "import matplotlib.pyplot as plt\n",
    "import seaborn as sns\n",
    "import statsmodels.api as sm\n",
    "from sklearn.model_selection import train_test_split\n",
    "from sklearn.preprocessing import StandardScaler\n",
    "from sklearn.linear_model import LogisticRegression\n",
    "from sklearn.metrics import classification_report, accuracy_score\n",
    "\n",
    "import warnings\n",
    "warnings.filterwarnings('ignore')"
   ]
  },
  {
   "cell_type": "markdown",
   "id": "2fff2fc9",
   "metadata": {},
   "source": [
    "In this problem set, we will aim to build a model to explain the factors associated with a person having a heart attack.  Thereafter we also look at the predicted values and compute accuracy. We will use a dataset `heart.csv` avaialable from https://archive.ics.uci.edu/dataset/45/heart+disease, which contains health information of each person (these are the predictors) and whether or not the person had a heart attack before (the binary outcome variable). You can download the data `heart.csv` from Canvas. \n",
    "\n",
    "The variables are (as described on the webpage):\n",
    "\n",
    "- age: age of the patient\n",
    "- sex: sex of the patient (1 = male; 0 = female)\n",
    "- cp: chest pain type chest pain type (0 = typical angina, 1 = atypical angina, 2 = non-anginal pain, 3: asymptomatic\n",
    "- trestbps: resting blood pressure (in mm Hg)\n",
    "- chol: cholestoral in mg/dl fetched via BMI sensor\n",
    "- fbs: (fasting blood sugar > 120 mg/dl) (1 = true; 0 = false)\n",
    "- restecg: resting electrocardiographic results (0 normal; 1 = having ST-T wave abnormality (T wave inversions and/or ST elevation or depression of > 0.05 mV); 2 = showing probable or definite left ventricular hypertrophy by Estes' criteria.)\n",
    "- thalachh: maximum heart rate achieved\n",
    "- exang: exercise induced angina (1 = yes; 0 = no)\n",
    "- oldpeak: ST depression induced by exercise relative to rest\n",
    "- slope:the slope of the peak exercise ST segment ( 0= upsloping; 1= flat; 2 = downsloping )\n",
    "- ca: number of major vessels (range : 0-3)\n",
    "- thal (Thalassemias):  0 = error (in the original dataset 0 maps to NaN's); 1 = fixed defect ; 2 = normal; 3 = reversable defect\n",
    "\n",
    "- target: 0 = no disease, 1 = disease\n"
   ]
  },
  {
   "cell_type": "markdown",
   "id": "3d9c6306",
   "metadata": {},
   "source": [
    "### Problem 1: Logistic Regression\n",
    "\n",
    "Points: 10\n",
    "\n",
    "As described above, our primary aim in this assignment is to build a model to predct heart attack status -- whether a person had a heart attack or not based on other health information. "
   ]
  },
  {
   "cell_type": "markdown",
   "id": "aaa8a822-7032-45a9-953c-152d7208377a",
   "metadata": {},
   "source": [
    "#### (a) Load the data\n",
    "\n",
    "Load data.  The data should contain 303 rows, and 11 columns. Do some basic checks.  Andwer these questions:\n",
    "- Do we have any missing values? Are you concerns about missing data?\n",
    "- What are the data types? Do these make sense for the variables?\n",
    "- What are ranges of numeric variables, and possible values of categorical variables?  \n",
    "- What is the rate of heart attacks among these patients?\n",
    "  \n",
    "Compare the values with the documentation and comment what do you see."
   ]
  },
  {
   "cell_type": "code",
   "execution_count": 9,
   "id": "2aba1d5c",
   "metadata": {},
   "outputs": [],
   "source": [
    "heart_data = ('heart.csv')\n",
    "data = pd.read_csv(heart_data)"
   ]
  },
  {
   "cell_type": "code",
   "execution_count": 10,
   "id": "25afee43-c96e-42f6-8cc9-66a50aedd893",
   "metadata": {},
   "outputs": [
    {
     "name": "stdout",
     "output_type": "stream",
     "text": [
      "<class 'pandas.core.frame.DataFrame'>\n",
      "RangeIndex: 303 entries, 0 to 302\n",
      "Data columns (total 14 columns):\n",
      " #   Column    Non-Null Count  Dtype  \n",
      "---  ------    --------------  -----  \n",
      " 0   age       303 non-null    int64  \n",
      " 1   sex       303 non-null    int64  \n",
      " 2   cp        303 non-null    int64  \n",
      " 3   trestbps  303 non-null    int64  \n",
      " 4   chol      303 non-null    int64  \n",
      " 5   fbs       303 non-null    int64  \n",
      " 6   restecg   303 non-null    int64  \n",
      " 7   thalach   303 non-null    int64  \n",
      " 8   exang     303 non-null    int64  \n",
      " 9   oldpeak   303 non-null    float64\n",
      " 10  slope     303 non-null    int64  \n",
      " 11  ca        303 non-null    int64  \n",
      " 12  thal      303 non-null    int64  \n",
      " 13  target    303 non-null    int64  \n",
      "dtypes: float64(1), int64(13)\n",
      "memory usage: 33.3 KB\n"
     ]
    }
   ],
   "source": [
    "data.info()"
   ]
  },
  {
   "cell_type": "code",
   "execution_count": 11,
   "id": "91aae418-6a67-40d5-833b-c12b4fa6a604",
   "metadata": {},
   "outputs": [
    {
     "data": {
      "text/plain": [
       "age         0\n",
       "sex         0\n",
       "cp          0\n",
       "trestbps    0\n",
       "chol        0\n",
       "fbs         0\n",
       "restecg     0\n",
       "thalach     0\n",
       "exang       0\n",
       "oldpeak     0\n",
       "slope       0\n",
       "ca          0\n",
       "thal        0\n",
       "target      0\n",
       "dtype: int64"
      ]
     },
     "execution_count": 11,
     "metadata": {},
     "output_type": "execute_result"
    }
   ],
   "source": [
    "data.isnull().sum()"
   ]
  },
  {
   "cell_type": "code",
   "execution_count": 12,
   "id": "adb1b83b-114f-48d0-a3e5-e0197b43f858",
   "metadata": {},
   "outputs": [
    {
     "data": {
      "text/html": [
       "<div>\n",
       "<style scoped>\n",
       "    .dataframe tbody tr th:only-of-type {\n",
       "        vertical-align: middle;\n",
       "    }\n",
       "\n",
       "    .dataframe tbody tr th {\n",
       "        vertical-align: top;\n",
       "    }\n",
       "\n",
       "    .dataframe thead th {\n",
       "        text-align: right;\n",
       "    }\n",
       "</style>\n",
       "<table border=\"1\" class=\"dataframe\">\n",
       "  <thead>\n",
       "    <tr style=\"text-align: right;\">\n",
       "      <th></th>\n",
       "      <th>age</th>\n",
       "      <th>sex</th>\n",
       "      <th>cp</th>\n",
       "      <th>trestbps</th>\n",
       "      <th>chol</th>\n",
       "      <th>fbs</th>\n",
       "      <th>restecg</th>\n",
       "      <th>thalach</th>\n",
       "      <th>exang</th>\n",
       "      <th>oldpeak</th>\n",
       "      <th>slope</th>\n",
       "      <th>ca</th>\n",
       "      <th>thal</th>\n",
       "      <th>target</th>\n",
       "    </tr>\n",
       "  </thead>\n",
       "  <tbody>\n",
       "    <tr>\n",
       "      <th>count</th>\n",
       "      <td>303.000000</td>\n",
       "      <td>303.000000</td>\n",
       "      <td>303.000000</td>\n",
       "      <td>303.000000</td>\n",
       "      <td>303.000000</td>\n",
       "      <td>303.000000</td>\n",
       "      <td>303.000000</td>\n",
       "      <td>303.000000</td>\n",
       "      <td>303.000000</td>\n",
       "      <td>303.000000</td>\n",
       "      <td>303.000000</td>\n",
       "      <td>303.000000</td>\n",
       "      <td>303.000000</td>\n",
       "      <td>303.000000</td>\n",
       "    </tr>\n",
       "    <tr>\n",
       "      <th>mean</th>\n",
       "      <td>54.366337</td>\n",
       "      <td>0.683168</td>\n",
       "      <td>0.966997</td>\n",
       "      <td>131.623762</td>\n",
       "      <td>246.264026</td>\n",
       "      <td>0.148515</td>\n",
       "      <td>0.528053</td>\n",
       "      <td>149.646865</td>\n",
       "      <td>0.326733</td>\n",
       "      <td>1.039604</td>\n",
       "      <td>1.399340</td>\n",
       "      <td>0.729373</td>\n",
       "      <td>2.313531</td>\n",
       "      <td>0.544554</td>\n",
       "    </tr>\n",
       "    <tr>\n",
       "      <th>std</th>\n",
       "      <td>9.082101</td>\n",
       "      <td>0.466011</td>\n",
       "      <td>1.032052</td>\n",
       "      <td>17.538143</td>\n",
       "      <td>51.830751</td>\n",
       "      <td>0.356198</td>\n",
       "      <td>0.525860</td>\n",
       "      <td>22.905161</td>\n",
       "      <td>0.469794</td>\n",
       "      <td>1.161075</td>\n",
       "      <td>0.616226</td>\n",
       "      <td>1.022606</td>\n",
       "      <td>0.612277</td>\n",
       "      <td>0.498835</td>\n",
       "    </tr>\n",
       "    <tr>\n",
       "      <th>min</th>\n",
       "      <td>29.000000</td>\n",
       "      <td>0.000000</td>\n",
       "      <td>0.000000</td>\n",
       "      <td>94.000000</td>\n",
       "      <td>126.000000</td>\n",
       "      <td>0.000000</td>\n",
       "      <td>0.000000</td>\n",
       "      <td>71.000000</td>\n",
       "      <td>0.000000</td>\n",
       "      <td>0.000000</td>\n",
       "      <td>0.000000</td>\n",
       "      <td>0.000000</td>\n",
       "      <td>0.000000</td>\n",
       "      <td>0.000000</td>\n",
       "    </tr>\n",
       "    <tr>\n",
       "      <th>25%</th>\n",
       "      <td>47.500000</td>\n",
       "      <td>0.000000</td>\n",
       "      <td>0.000000</td>\n",
       "      <td>120.000000</td>\n",
       "      <td>211.000000</td>\n",
       "      <td>0.000000</td>\n",
       "      <td>0.000000</td>\n",
       "      <td>133.500000</td>\n",
       "      <td>0.000000</td>\n",
       "      <td>0.000000</td>\n",
       "      <td>1.000000</td>\n",
       "      <td>0.000000</td>\n",
       "      <td>2.000000</td>\n",
       "      <td>0.000000</td>\n",
       "    </tr>\n",
       "    <tr>\n",
       "      <th>50%</th>\n",
       "      <td>55.000000</td>\n",
       "      <td>1.000000</td>\n",
       "      <td>1.000000</td>\n",
       "      <td>130.000000</td>\n",
       "      <td>240.000000</td>\n",
       "      <td>0.000000</td>\n",
       "      <td>1.000000</td>\n",
       "      <td>153.000000</td>\n",
       "      <td>0.000000</td>\n",
       "      <td>0.800000</td>\n",
       "      <td>1.000000</td>\n",
       "      <td>0.000000</td>\n",
       "      <td>2.000000</td>\n",
       "      <td>1.000000</td>\n",
       "    </tr>\n",
       "    <tr>\n",
       "      <th>75%</th>\n",
       "      <td>61.000000</td>\n",
       "      <td>1.000000</td>\n",
       "      <td>2.000000</td>\n",
       "      <td>140.000000</td>\n",
       "      <td>274.500000</td>\n",
       "      <td>0.000000</td>\n",
       "      <td>1.000000</td>\n",
       "      <td>166.000000</td>\n",
       "      <td>1.000000</td>\n",
       "      <td>1.600000</td>\n",
       "      <td>2.000000</td>\n",
       "      <td>1.000000</td>\n",
       "      <td>3.000000</td>\n",
       "      <td>1.000000</td>\n",
       "    </tr>\n",
       "    <tr>\n",
       "      <th>max</th>\n",
       "      <td>77.000000</td>\n",
       "      <td>1.000000</td>\n",
       "      <td>3.000000</td>\n",
       "      <td>200.000000</td>\n",
       "      <td>564.000000</td>\n",
       "      <td>1.000000</td>\n",
       "      <td>2.000000</td>\n",
       "      <td>202.000000</td>\n",
       "      <td>1.000000</td>\n",
       "      <td>6.200000</td>\n",
       "      <td>2.000000</td>\n",
       "      <td>4.000000</td>\n",
       "      <td>3.000000</td>\n",
       "      <td>1.000000</td>\n",
       "    </tr>\n",
       "  </tbody>\n",
       "</table>\n",
       "</div>"
      ],
      "text/plain": [
       "              age         sex          cp    trestbps        chol         fbs  \\\n",
       "count  303.000000  303.000000  303.000000  303.000000  303.000000  303.000000   \n",
       "mean    54.366337    0.683168    0.966997  131.623762  246.264026    0.148515   \n",
       "std      9.082101    0.466011    1.032052   17.538143   51.830751    0.356198   \n",
       "min     29.000000    0.000000    0.000000   94.000000  126.000000    0.000000   \n",
       "25%     47.500000    0.000000    0.000000  120.000000  211.000000    0.000000   \n",
       "50%     55.000000    1.000000    1.000000  130.000000  240.000000    0.000000   \n",
       "75%     61.000000    1.000000    2.000000  140.000000  274.500000    0.000000   \n",
       "max     77.000000    1.000000    3.000000  200.000000  564.000000    1.000000   \n",
       "\n",
       "          restecg     thalach       exang     oldpeak       slope          ca  \\\n",
       "count  303.000000  303.000000  303.000000  303.000000  303.000000  303.000000   \n",
       "mean     0.528053  149.646865    0.326733    1.039604    1.399340    0.729373   \n",
       "std      0.525860   22.905161    0.469794    1.161075    0.616226    1.022606   \n",
       "min      0.000000   71.000000    0.000000    0.000000    0.000000    0.000000   \n",
       "25%      0.000000  133.500000    0.000000    0.000000    1.000000    0.000000   \n",
       "50%      1.000000  153.000000    0.000000    0.800000    1.000000    0.000000   \n",
       "75%      1.000000  166.000000    1.000000    1.600000    2.000000    1.000000   \n",
       "max      2.000000  202.000000    1.000000    6.200000    2.000000    4.000000   \n",
       "\n",
       "             thal      target  \n",
       "count  303.000000  303.000000  \n",
       "mean     2.313531    0.544554  \n",
       "std      0.612277    0.498835  \n",
       "min      0.000000    0.000000  \n",
       "25%      2.000000    0.000000  \n",
       "50%      2.000000    1.000000  \n",
       "75%      3.000000    1.000000  \n",
       "max      3.000000    1.000000  "
      ]
     },
     "execution_count": 12,
     "metadata": {},
     "output_type": "execute_result"
    }
   ],
   "source": [
    "data.describe()"
   ]
  },
  {
   "cell_type": "code",
   "execution_count": 13,
   "id": "b4fb01df-8548-46be-8bbd-5264c0bbc212",
   "metadata": {},
   "outputs": [
    {
     "name": "stdout",
     "output_type": "stream",
     "text": [
      "     age  sex  cp  trestbps  chol  fbs  restecg  thalach  exang  oldpeak  \\\n",
      "min   29    0   0        94   126    0        0       71      0      0.0   \n",
      "max   77    1   3       200   564    1        2      202      1      6.2   \n",
      "\n",
      "     slope  ca  thal  target  \n",
      "min      0   0     0       0  \n",
      "max      2   4     3       1  \n"
     ]
    },
    {
     "data": {
      "text/html": [
       "<div>\n",
       "<style scoped>\n",
       "    .dataframe tbody tr th:only-of-type {\n",
       "        vertical-align: middle;\n",
       "    }\n",
       "\n",
       "    .dataframe tbody tr th {\n",
       "        vertical-align: top;\n",
       "    }\n",
       "\n",
       "    .dataframe thead th {\n",
       "        text-align: right;\n",
       "    }\n",
       "</style>\n",
       "<table border=\"1\" class=\"dataframe\">\n",
       "  <thead>\n",
       "    <tr style=\"text-align: right;\">\n",
       "      <th></th>\n",
       "      <th>age</th>\n",
       "      <th>sex</th>\n",
       "      <th>cp</th>\n",
       "      <th>trestbps</th>\n",
       "      <th>chol</th>\n",
       "      <th>fbs</th>\n",
       "      <th>restecg</th>\n",
       "      <th>thalach</th>\n",
       "      <th>exang</th>\n",
       "      <th>oldpeak</th>\n",
       "      <th>slope</th>\n",
       "      <th>ca</th>\n",
       "      <th>thal</th>\n",
       "      <th>target</th>\n",
       "    </tr>\n",
       "  </thead>\n",
       "  <tbody>\n",
       "    <tr>\n",
       "      <th>0</th>\n",
       "      <td>63</td>\n",
       "      <td>1</td>\n",
       "      <td>3</td>\n",
       "      <td>145</td>\n",
       "      <td>233</td>\n",
       "      <td>1</td>\n",
       "      <td>0</td>\n",
       "      <td>150</td>\n",
       "      <td>0</td>\n",
       "      <td>2.3</td>\n",
       "      <td>0</td>\n",
       "      <td>0</td>\n",
       "      <td>1</td>\n",
       "      <td>1</td>\n",
       "    </tr>\n",
       "    <tr>\n",
       "      <th>1</th>\n",
       "      <td>37</td>\n",
       "      <td>1</td>\n",
       "      <td>2</td>\n",
       "      <td>130</td>\n",
       "      <td>250</td>\n",
       "      <td>0</td>\n",
       "      <td>1</td>\n",
       "      <td>187</td>\n",
       "      <td>0</td>\n",
       "      <td>3.5</td>\n",
       "      <td>0</td>\n",
       "      <td>0</td>\n",
       "      <td>2</td>\n",
       "      <td>1</td>\n",
       "    </tr>\n",
       "    <tr>\n",
       "      <th>2</th>\n",
       "      <td>41</td>\n",
       "      <td>0</td>\n",
       "      <td>1</td>\n",
       "      <td>130</td>\n",
       "      <td>204</td>\n",
       "      <td>0</td>\n",
       "      <td>0</td>\n",
       "      <td>172</td>\n",
       "      <td>0</td>\n",
       "      <td>1.4</td>\n",
       "      <td>2</td>\n",
       "      <td>0</td>\n",
       "      <td>2</td>\n",
       "      <td>1</td>\n",
       "    </tr>\n",
       "    <tr>\n",
       "      <th>3</th>\n",
       "      <td>56</td>\n",
       "      <td>1</td>\n",
       "      <td>1</td>\n",
       "      <td>120</td>\n",
       "      <td>236</td>\n",
       "      <td>0</td>\n",
       "      <td>1</td>\n",
       "      <td>178</td>\n",
       "      <td>0</td>\n",
       "      <td>0.8</td>\n",
       "      <td>2</td>\n",
       "      <td>0</td>\n",
       "      <td>2</td>\n",
       "      <td>1</td>\n",
       "    </tr>\n",
       "    <tr>\n",
       "      <th>4</th>\n",
       "      <td>57</td>\n",
       "      <td>0</td>\n",
       "      <td>0</td>\n",
       "      <td>120</td>\n",
       "      <td>354</td>\n",
       "      <td>0</td>\n",
       "      <td>1</td>\n",
       "      <td>163</td>\n",
       "      <td>1</td>\n",
       "      <td>0.6</td>\n",
       "      <td>2</td>\n",
       "      <td>0</td>\n",
       "      <td>2</td>\n",
       "      <td>1</td>\n",
       "    </tr>\n",
       "  </tbody>\n",
       "</table>\n",
       "</div>"
      ],
      "text/plain": [
       "   age  sex  cp  trestbps  chol  fbs  restecg  thalach  exang  oldpeak  slope  \\\n",
       "0   63    1   3       145   233    1        0      150      0      2.3      0   \n",
       "1   37    1   2       130   250    0        1      187      0      3.5      0   \n",
       "2   41    0   1       130   204    0        0      172      0      1.4      2   \n",
       "3   56    1   1       120   236    0        1      178      0      0.8      2   \n",
       "4   57    0   0       120   354    0        1      163      1      0.6      2   \n",
       "\n",
       "   ca  thal  target  \n",
       "0   0     1       1  \n",
       "1   0     2       1  \n",
       "2   0     2       1  \n",
       "3   0     2       1  \n",
       "4   0     2       1  "
      ]
     },
     "execution_count": 13,
     "metadata": {},
     "output_type": "execute_result"
    }
   ],
   "source": [
    "numeric_ranges = data.agg(['min', 'max'])\n",
    "print(numeric_ranges)\n",
    "data.head()"
   ]
  },
  {
   "cell_type": "code",
   "execution_count": 14,
   "id": "0a97defe-5a1c-48ab-8bee-34b93df89a35",
   "metadata": {},
   "outputs": [
    {
     "name": "stdout",
     "output_type": "stream",
     "text": [
      "target\n",
      "1    0.544554\n",
      "0    0.455446\n",
      "Name: proportion, dtype: float64\n"
     ]
    }
   ],
   "source": [
    "heart_attack_rate = data['target'].value_counts(normalize=True)\n",
    "print(heart_attack_rate)"
   ]
  },
  {
   "cell_type": "code",
   "execution_count": 15,
   "id": "bc4b6934-bb61-4ff5-9d46-86af4ecf529a",
   "metadata": {},
   "outputs": [
    {
     "data": {
      "text/plain": [
       "' \\nDo we have any missing values? Are you concerns about missing data? \\nNo missing values \\n\\nWhat are the data types? Do these make sense for the variables?\\n\\nThere is two types of data types integers, and float \\nWhat are ranges of numeric variables, and possible values of categorical variables?\\n\\nage\\t29-77, sex 0-1,\\tcp 0-3 ( (0 = typical angina, 1 = atypical angina, 2 = non-anginal pain, 3: asymptomatic), restbps 94-200,\\nchol 126-564, fbs 0-1,\\trestecg 0-2 (0 normal; 1 = having ST-T wave abnormality ), thalach 72-202, exang 0-1(1 = yes; 0 = no), oldpeak 0-6.2,\\t\\nslope 0-2 ( 0= upsloping; 1= flat; 2 = downsloping ), ca 0-4, thal 0-3,  (1 = fixed defect ; 2 = normal; 3 = reversable defect),\\ntarget (0-1 0 = no disease, 1 = disease)\\n\\nWhat is the rate of heart attacks among these patients?\\n54%\\n'"
      ]
     },
     "execution_count": 15,
     "metadata": {},
     "output_type": "execute_result"
    }
   ],
   "source": [
    "''' \n",
    "Do we have any missing values? Are you concerns about missing data? \n",
    "No missing values \n",
    "\n",
    "What are the data types? Do these make sense for the variables?\n",
    "\n",
    "There is two types of data types integers, and float \n",
    "What are ranges of numeric variables, and possible values of categorical variables?\n",
    "\n",
    "age\t29-77, sex 0-1,\tcp 0-3 ( (0 = typical angina, 1 = atypical angina, 2 = non-anginal pain, 3: asymptomatic), restbps 94-200,\n",
    "chol 126-564, fbs 0-1,\trestecg 0-2 (0 normal; 1 = having ST-T wave abnormality ), thalach 72-202, exang 0-1(1 = yes; 0 = no), oldpeak 0-6.2,\t\n",
    "slope 0-2 ( 0= upsloping; 1= flat; 2 = downsloping ), ca 0-4, thal 0-3,  (1 = fixed defect ; 2 = normal; 3 = reversable defect),\n",
    "target (0-1 0 = no disease, 1 = disease)\n",
    "\n",
    "What is the rate of heart attacks among these patients?\n",
    "54%\n",
    "'''"
   ]
  },
  {
   "cell_type": "markdown",
   "id": "72a5477f",
   "metadata": {},
   "source": [
    "#### (b) Logistic regression model\n",
    "\n",
    "Fit a logistic regression model with all the explanatory variables.  Do not forget to convert the categorical ones to categories!\n",
    "\n",
    "In each case also comment on statistical significance of the results. (Hint : https://www.statsmodels.org/stable/discretemod.html )"
   ]
  },
  {
   "cell_type": "code",
   "execution_count": 17,
   "id": "6a6cc504-bf30-4e6f-a9c2-3c6b9fdde43d",
   "metadata": {},
   "outputs": [
    {
     "name": "stdout",
     "output_type": "stream",
     "text": [
      "Accuracy: 0.87\n",
      "              precision    recall  f1-score   support\n",
      "\n",
      "           0       0.86      0.86      0.86        29\n",
      "           1       0.88      0.88      0.88        32\n",
      "\n",
      "    accuracy                           0.87        61\n",
      "   macro avg       0.87      0.87      0.87        61\n",
      "weighted avg       0.87      0.87      0.87        61\n",
      "\n"
     ]
    },
    {
     "data": {
      "text/plain": [
       "'https://discuss.datasciencedojo.com/t/how-to-create-one-hot-encodings-for-categorical-variables-in-python/994\\nhttps://scikit-learn.org/stable/modules/generated/sklearn.metrics.accuracy_score.html'"
      ]
     },
     "execution_count": 17,
     "metadata": {},
     "output_type": "execute_result"
    }
   ],
   "source": [
    "# Convert categorical variables to categories\n",
    "categorical_columns = ['sex', 'cp', 'fbs', 'restecg', 'exang', 'slope', 'ca', 'thal']\n",
    "data[categorical_columns] = data[categorical_columns].astype('category')\n",
    "\n",
    "# One-hot encode the categorical variables\n",
    "data_encoded = pd.get_dummies(data, drop_first=True)\n",
    "\n",
    "# Ensure there are no non-numeric columns\n",
    "data_encoded = data_encoded.apply(pd.to_numeric, errors='coerce')\n",
    "\n",
    "# Check for NaN values and drop them\n",
    "data_encoded.dropna(inplace=True)\n",
    "\n",
    "# Separate the explanatory variables \n",
    "X = data_encoded.drop('target', axis=1)\n",
    "y = data_encoded['target']\n",
    "\n",
    "# Split the data into training and testing sets\n",
    "X_train, X_test, y_train, y_test = train_test_split(X, y, test_size=0.2, random_state=42)\n",
    "\n",
    "# Standardize the features\n",
    "scaler = StandardScaler()\n",
    "X_train_scaled = scaler.fit_transform(X_train)\n",
    "X_test_scaled = scaler.transform(X_test)\n",
    "\n",
    "# Initialize and fit the logistic regression model\n",
    "model = LogisticRegression(max_iter=1000)\n",
    "model.fit(X_train_scaled, y_train)\n",
    "\n",
    "# Make predictions on the test data\n",
    "y_pred = model.predict(X_test_scaled)\n",
    "\n",
    "# Evaluate the model\n",
    "accuracy = accuracy_score(y_test, y_pred)\n",
    "print(f\"Accuracy: {accuracy:.2f}\")\n",
    "\n",
    "# Print classification report\n",
    "print(classification_report(y_test, y_pred))\n",
    "\n",
    "'''https://discuss.datasciencedojo.com/t/how-to-create-one-hot-encodings-for-categorical-variables-in-python/994\n",
    "https://scikit-learn.org/stable/modules/generated/sklearn.metrics.accuracy_score.html'''"
   ]
  },
  {
   "cell_type": "markdown",
   "id": "e38eed97",
   "metadata": {},
   "source": [
    "#### (c) Data Cleaning\n",
    "\n",
    "You probably noticed that all the above variables are coded as numbers. However, not all of these are in fact of numeric (interval, ratio) measure type. Which variables above are inherently non-numeric (nominal or ordinal)? Fix any issues."
   ]
  },
  {
   "cell_type": "code",
   "execution_count": 19,
   "id": "06d650dc-2443-45ca-a615-514f62a66440",
   "metadata": {},
   "outputs": [
    {
     "data": {
      "text/plain": [
       "\" 'sex', 'cp', 'fbs', 'restecg', 'exang', 'slope', 'ca', 'thal' \""
      ]
     },
     "execution_count": 19,
     "metadata": {},
     "output_type": "execute_result"
    }
   ],
   "source": [
    "''' 'sex', 'cp', 'fbs', 'restecg', 'exang', 'slope', 'ca', 'thal' '''"
   ]
  },
  {
   "cell_type": "markdown",
   "id": "bc50b2c0",
   "metadata": {},
   "source": [
    "Run EDA(Exploratory Data Analysis) to answer at least 2 questions listd below:\n",
    "- How is age related to probability of heart attack?\n",
    "- Are men or women more likely to have heart attack?   \n",
    "- Is higher blood pressure (`trtbps`) associated with more heart attacks?\n",
    "- How much more likely is heart attack for someone who has chest pain (`cp type 1`) compared to someone who has chest pain type 3?\n",
    "- What is the heart attack distribution based on different (`restecg`) categories? "
   ]
  },
  {
   "cell_type": "code",
   "execution_count": 21,
   "id": "b9331696",
   "metadata": {},
   "outputs": [
    {
     "data": {
      "image/png": "[encoded data removed]",
      "text/plain": [
       "<Figure size 800x600 with 1 Axes>"
      ]
     },
     "metadata": {},
     "output_type": "display_data"
    }
   ],
   "source": [
    "#likelihood of heart attack based on sex\n",
    "plt.figure(figsize=(8, 6))\n",
    "sns.countplot(x='sex', hue='target', data=data)\n",
    "plt.title('Heart Attack Distribution by Sex')\n",
    "plt.xlabel('Sex (0: Female, 1: Male)')\n",
    "plt.ylabel('Count')\n",
    "plt.legend(title='Heart Attack', labels=['No', 'Yes'])\n",
    "plt.show()"
   ]
  },
  {
   "cell_type": "code",
   "execution_count": 22,
   "id": "df9682be-dad1-4061-9247-658b9a3419e9",
   "metadata": {},
   "outputs": [
    {
     "name": "stdout",
     "output_type": "stream",
     "text": [
      "The likelihood of a heart attack for Female is 75.00%\n",
      "The likelihood of a heart attack for Male is 44.93%\n"
     ]
    }
   ],
   "source": [
    "heart_attack_likelihood_by_sex = data.groupby('sex')['target'].mean() * 100  # Converting to percentage\n",
    "\n",
    "# Display the results\n",
    "for sex, likelihood in heart_attack_likelihood_by_sex.items():\n",
    "    sex_str = 'Female' if sex == 0 else 'Male'\n",
    "    print(f\"The likelihood of a heart attack for {sex_str} is {likelihood:.2f}%\")"
   ]
  },
  {
   "cell_type": "code",
   "execution_count": 23,
   "id": "0d0ef9a7-c8eb-4e49-b1c2-04edd55d4d5d",
   "metadata": {},
   "outputs": [
    {
     "data": {
      "text/plain": [
       "'Females are more likely to have a heart attack, with a much higher percentage (75.00%) compared to males (44.93%). \\nDespite the absolute count of heart attacks being higher in males (which is influenced by the larger number of males in the dataset), \\nthe percentage analysis clearly indicates that females in this dataset are at a higher relative risk of a heart attack.\\nThis suggests that while more males might experience heart attacks overall due to a higher sample size, individual females \\nin the dataset are more likely to experience a heart attack than individual males.'"
      ]
     },
     "execution_count": 23,
     "metadata": {},
     "output_type": "execute_result"
    }
   ],
   "source": [
    "'''Females are more likely to have a heart attack, with a much higher percentage (75.00%) compared to males (44.93%). \n",
    "Despite the absolute count of heart attacks being higher in males (which is influenced by the larger number of males in the dataset), \n",
    "the percentage analysis clearly indicates that females in this dataset are at a higher relative risk of a heart attack.\n",
    "This suggests that while more males might experience heart attacks overall due to a higher sample size, individual females \n",
    "in the dataset are more likely to experience a heart attack than individual males.'''"
   ]
  },
  {
   "cell_type": "code",
   "execution_count": 24,
   "id": "f7f7f68f-2e71-4a6c-81bc-8c2746c8036f",
   "metadata": {},
   "outputs": [
    {
     "data": {
      "image/png": "[encoded data removed]",
      "text/plain": [
       "<Figure size 800x600 with 1 Axes>"
      ]
     },
     "metadata": {},
     "output_type": "display_data"
    }
   ],
   "source": [
    "#  heart attack distribution based on different restecg categories\n",
    "plt.figure(figsize=(8, 6))\n",
    "sns.countplot(x='restecg', hue='target', data=data)\n",
    "plt.title('Heart Attack Distribution by Resting ECG (restecg) Category')\n",
    "plt.xlabel('Resting ECG Category')\n",
    "plt.ylabel('Count')\n",
    "plt.legend(title='Heart Attack', labels=['No', 'Yes'])\n",
    "plt.show()"
   ]
  },
  {
   "cell_type": "markdown",
   "id": "ca9cf4e6",
   "metadata": {},
   "source": [
    "### Problem 2: Prediction\n",
    "\n",
    "The last task is to split the dataset into a training (80% of the dataset) set and a testing (20% of the dataset) set. \n",
    "\n",
    "Run a logistic regression and another classification model (based on your own preference).  (Hint: Try scikit learn https://scikit-learn.org/stable/modules/generated/sklearn.linear_model.LogisticRegression.html )\n",
    "\n",
    "Compute the confusion matrix based on the 2 models. Discuss what you find."
   ]
  },
  {
   "cell_type": "code",
   "execution_count": 52,
   "id": "d143705f",
   "metadata": {},
   "outputs": [],
   "source": [
    "from sklearn.model_selection import train_test_split\n",
    "from sklearn.preprocessing import StandardScaler\n",
    "from sklearn.linear_model import LogisticRegression\n",
    "from sklearn.metrics import confusion_matrix\n",
    "# Split the data into training (80%) and testing (20%) sets\n",
    "X_train, X_test, y_train, y_test = train_test_split(X, y, test_size=0.2, random_state=42)\n",
    "\n",
    "# Standardize the features\n",
    "scaler = StandardScaler()\n",
    "X_train_scaled = scaler.fit_transform(X_train)\n",
    "X_test_scaled = scaler.transform(X_test)\n",
    "\n",
    "# Initialize and fit \n",
    "logistic_model = LogisticRegression(max_iter=1000)\n",
    "logistic_model.fit(X_train_scaled, y_train)\n",
    "\n",
    "# Make predictions on the test data\n",
    "y_pred_logistic = logistic_model.predict(X_test_scaled)\n",
    "\n",
    "\n"
   ]
  },
  {
   "cell_type": "code",
   "execution_count": 54,
   "id": "f0ae6cc6-bf8a-46b7-aa60-fbb185041056",
   "metadata": {},
   "outputs": [],
   "source": [
    "from sklearn.ensemble import RandomForestClassifier\n",
    "\n",
    "# Initialize and fit the Random Forest classifier\n",
    "rf_model = RandomForestClassifier(n_estimators=100, random_state=42)\n",
    "rf_model.fit(X_train, y_train)\n",
    "\n",
    "# Make predictions on the test data\n",
    "y_pred_rf = rf_model.predict(X_test)\n"
   ]
  },
  {
   "cell_type": "code",
   "execution_count": 56,
   "id": "3b69ac64-ac20-415c-be2c-b6953d24f373",
   "metadata": {},
   "outputs": [
    {
     "data": {
      "image/png": "[encoded data removed]",
      "text/plain": [
       "<Figure size 1000x400 with 4 Axes>"
      ]
     },
     "metadata": {},
     "output_type": "display_data"
    }
   ],
   "source": [
    "# confusion matrix for Logistic Regression\n",
    "cm_logistic = confusion_matrix(y_test, y_pred_logistic)\n",
    "\n",
    "# confusion matrix for Random Forest\n",
    "cm_rf = confusion_matrix(y_test, y_pred_rf)\n",
    "\n",
    "# Plotting the confusion matrix for Logistic Regression\n",
    "plt.figure(figsize=(10, 4))\n",
    "plt.subplot(1, 2, 1)\n",
    "sns.heatmap(cm_logistic, annot=True, fmt='d', cmap='Blues')\n",
    "plt.title('Logistic Regression Confusion Matrix')\n",
    "plt.xlabel('Predicted')\n",
    "plt.ylabel('Actual')\n",
    "\n",
    "# Plotting the confusion matrix for Random Forest\n",
    "plt.subplot(1, 2, 2)\n",
    "sns.heatmap(cm_rf, annot=True, fmt='d', cmap='Blues')\n",
    "plt.title('Random Forest Confusion Matrix')\n",
    "plt.xlabel('Predicted')\n",
    "plt.ylabel('Actual')\n",
    "\n",
    "plt.tight_layout()\n",
    "plt.show()\n",
    "''' https://vitalflux.com/python-draw-confusion-matrix-matplotlib/'''"
   ]
  },
  {
   "cell_type": "code",
   "execution_count": null,
   "id": "4a28e3bc-11dc-4e3d-b4ee-154b4cd88cb4",
   "metadata": {},
   "outputs": [],
   "source": [
    "''' running the comfusion matrix, it showed that the random forrest regression, Logistic Regression is slightly better at \n",
    "identifying true positives (actual heart attacks) but slightly worse at identifying true negatives (no heart attacks).  \n",
    "Random Forest is slightly better at identifying true negatives (no heart attacks) but slightly worse at identifying true positives\n",
    "(heart attacks).''' "
   ]
  },
  {
   "cell_type": "markdown",
   "id": "f7f1e40c-0a95-4257-a435-5b0952264d8c",
   "metadata": {},
   "source": [
    "### Problem 3: Reflection\n",
    "\n",
    "What concerns do you have about this data and the analysis above? How might data on heart attack status and a model like the one you fit above be used in the real world?"
   ]
  },
  {
   "cell_type": "code",
   "execution_count": null,
   "id": "6b264d49",
   "metadata": {},
   "outputs": [],
   "source": [
    "''' concerns about potential biases in the data beacuase of the slight class distribution that could influence the model and could affect \n",
    "certain groups that are not presented as much in the data. Overfitting, and the interpretability of models like Random Forests is also a \n",
    "concern because of the few features included in the model and small sample size.False negatives in predictions are particularly worrisome, \n",
    "as they could lead to missed diagnoses in a real-world setting. While the models could be valuable for early detection and resource \n",
    "allocation in healthcare, careful consideration of their generalizability, ethical implications, and the potential for biased outcomes \n",
    "is crucial before deploying them in practice.'''"
   ]
  }
 ],
 "metadata": {
  "kernelspec": {
   "display_name": "Python 3 (ipykernel)",
   "language": "python",
   "name": "python3"
  },
  "language_info": {
   "codemirror_mode": {
    "name": "ipython",
    "version": 3
   },
   "file_extension": ".py",
   "mimetype": "text/x-python",
   "name": "python",
   "nbconvert_exporter": "python",
   "pygments_lexer": "ipython3",
   "version": "3.12.4"
  }
 },
 "nbformat": 4,
 "nbformat_minor": 5
}
