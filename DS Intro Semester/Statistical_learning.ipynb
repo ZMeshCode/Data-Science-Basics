{
 "cells": [
  {
   "cell_type": "markdown",
   "id": "d4872e19-832b-4ff9-85e4-619aa8fab499",
   "metadata": {},
   "source": [
    "### Statistical Learning and Predictive Modeling\n",
    "\n",
    "This project focuses on the application of statistical learning techniques to analyze data patterns, relationships, and make predictions. Using various datasets, the project demonstrates key steps including:\n",
    "\n",
    "- **Data Cleaning**: Handling missing values and ensuring data consistency.\n",
    "- **Modeling**: Applying linear regression, logistic regression, and other models to make predictions.\n",
    "- **Visualization**: Recreating visualizations to gain insights from data.\n",
    "- **Data Manipulation**: Filtering and joining datasets to extract meaningful information.\n",
    "\n",
    "The goal is to apply statistical learning methods to real-world data, showcasing skills in predictive modeling and analysis."
   ]
  },
  {
   "cell_type": "code",
   "execution_count": 2,
   "id": "1ea893fd",
   "metadata": {},
   "outputs": [],
   "source": [
    "import pandas as pd\n",
    "import numpy as np\n",
    "import matplotlib.pyplot as plt\n",
    "import seaborn as sns\n",
    "from scipy import stats"
   ]
  },
  {
   "cell_type": "markdown",
   "id": "2fff2fc9",
   "metadata": {},
   "source": [
    "### Analyzing Height Inheritance: Regression Toward the Mean\n",
    "\n",
    "This project explores the phenomenon of genetic inheritance, specifically using the historical dataset of fathers' and sons' heights analyzed by Karl Pearson and Alice Lee. The goal is to investigate whether the observed difference in heights between fathers and sons can be attributed to chance or is part of a broader trend, known as **regression toward the mean**. \n",
    "\n",
    "In this context, regression analysis will be used to examine the relationship between fathers' height and sons' height, while showcasing modern statistical techniques."
   ]
  },
  {
   "cell_type": "code",
   "execution_count": 4,
   "id": "717fa946-31db-470f-8caa-d6b7366481b2",
   "metadata": {},
   "outputs": [
    {
     "ename": "FileNotFoundError",
     "evalue": "[Errno 2] No such file or directory: '/Users/zerayacobmeshesha/Desktop/DevKit/fatherson.csv'",
     "output_type": "error",
     "traceback": [
      "\u001b[0;31m---------------------------------------------------------------------------\u001b[0m",
      "\u001b[0;31mFileNotFoundError\u001b[0m                         Traceback (most recent call last)",
      "Cell \u001b[0;32mIn[4], line 3\u001b[0m\n\u001b[1;32m      1\u001b[0m \u001b[38;5;66;03m# Load the data with the correct path\u001b[39;00m\n\u001b[1;32m      2\u001b[0m file_path \u001b[38;5;241m=\u001b[39m \u001b[38;5;124m'\u001b[39m\u001b[38;5;124m~/Desktop/DevKit/fatherson.csv\u001b[39m\u001b[38;5;124m'\u001b[39m\n\u001b[0;32m----> 3\u001b[0m data \u001b[38;5;241m=\u001b[39m pd\u001b[38;5;241m.\u001b[39mread_csv(file_path, delimiter\u001b[38;5;241m=\u001b[39m\u001b[38;5;124m'\u001b[39m\u001b[38;5;130;01m\\t\u001b[39;00m\u001b[38;5;124m'\u001b[39m)\n",
      "File \u001b[0;32m/opt/anaconda3/lib/python3.12/site-packages/pandas/io/parsers/readers.py:1026\u001b[0m, in \u001b[0;36mread_csv\u001b[0;34m(filepath_or_buffer, sep, delimiter, header, names, index_col, usecols, dtype, engine, converters, true_values, false_values, skipinitialspace, skiprows, skipfooter, nrows, na_values, keep_default_na, na_filter, verbose, skip_blank_lines, parse_dates, infer_datetime_format, keep_date_col, date_parser, date_format, dayfirst, cache_dates, iterator, chunksize, compression, thousands, decimal, lineterminator, quotechar, quoting, doublequote, escapechar, comment, encoding, encoding_errors, dialect, on_bad_lines, delim_whitespace, low_memory, memory_map, float_precision, storage_options, dtype_backend)\u001b[0m\n\u001b[1;32m   1013\u001b[0m kwds_defaults \u001b[38;5;241m=\u001b[39m _refine_defaults_read(\n\u001b[1;32m   1014\u001b[0m     dialect,\n\u001b[1;32m   1015\u001b[0m     delimiter,\n\u001b[0;32m   (...)\u001b[0m\n\u001b[1;32m   1022\u001b[0m     dtype_backend\u001b[38;5;241m=\u001b[39mdtype_backend,\n\u001b[1;32m   1023\u001b[0m )\n\u001b[1;32m   1024\u001b[0m kwds\u001b[38;5;241m.\u001b[39mupdate(kwds_defaults)\n\u001b[0;32m-> 1026\u001b[0m \u001b[38;5;28;01mreturn\u001b[39;00m _read(filepath_or_buffer, kwds)\n",
      "File \u001b[0;32m/opt/anaconda3/lib/python3.12/site-packages/pandas/io/parsers/readers.py:620\u001b[0m, in \u001b[0;36m_read\u001b[0;34m(filepath_or_buffer, kwds)\u001b[0m\n\u001b[1;32m    617\u001b[0m _validate_names(kwds\u001b[38;5;241m.\u001b[39mget(\u001b[38;5;124m\"\u001b[39m\u001b[38;5;124mnames\u001b[39m\u001b[38;5;124m\"\u001b[39m, \u001b[38;5;28;01mNone\u001b[39;00m))\n\u001b[1;32m    619\u001b[0m \u001b[38;5;66;03m# Create the parser.\u001b[39;00m\n\u001b[0;32m--> 620\u001b[0m parser \u001b[38;5;241m=\u001b[39m TextFileReader(filepath_or_buffer, \u001b[38;5;241m*\u001b[39m\u001b[38;5;241m*\u001b[39mkwds)\n\u001b[1;32m    622\u001b[0m \u001b[38;5;28;01mif\u001b[39;00m chunksize \u001b[38;5;129;01mor\u001b[39;00m iterator:\n\u001b[1;32m    623\u001b[0m     \u001b[38;5;28;01mreturn\u001b[39;00m parser\n",
      "File \u001b[0;32m/opt/anaconda3/lib/python3.12/site-packages/pandas/io/parsers/readers.py:1620\u001b[0m, in \u001b[0;36mTextFileReader.__init__\u001b[0;34m(self, f, engine, **kwds)\u001b[0m\n\u001b[1;32m   1617\u001b[0m     \u001b[38;5;28mself\u001b[39m\u001b[38;5;241m.\u001b[39moptions[\u001b[38;5;124m\"\u001b[39m\u001b[38;5;124mhas_index_names\u001b[39m\u001b[38;5;124m\"\u001b[39m] \u001b[38;5;241m=\u001b[39m kwds[\u001b[38;5;124m\"\u001b[39m\u001b[38;5;124mhas_index_names\u001b[39m\u001b[38;5;124m\"\u001b[39m]\n\u001b[1;32m   1619\u001b[0m \u001b[38;5;28mself\u001b[39m\u001b[38;5;241m.\u001b[39mhandles: IOHandles \u001b[38;5;241m|\u001b[39m \u001b[38;5;28;01mNone\u001b[39;00m \u001b[38;5;241m=\u001b[39m \u001b[38;5;28;01mNone\u001b[39;00m\n\u001b[0;32m-> 1620\u001b[0m \u001b[38;5;28mself\u001b[39m\u001b[38;5;241m.\u001b[39m_engine \u001b[38;5;241m=\u001b[39m \u001b[38;5;28mself\u001b[39m\u001b[38;5;241m.\u001b[39m_make_engine(f, \u001b[38;5;28mself\u001b[39m\u001b[38;5;241m.\u001b[39mengine)\n",
      "File \u001b[0;32m/opt/anaconda3/lib/python3.12/site-packages/pandas/io/parsers/readers.py:1880\u001b[0m, in \u001b[0;36mTextFileReader._make_engine\u001b[0;34m(self, f, engine)\u001b[0m\n\u001b[1;32m   1878\u001b[0m     \u001b[38;5;28;01mif\u001b[39;00m \u001b[38;5;124m\"\u001b[39m\u001b[38;5;124mb\u001b[39m\u001b[38;5;124m\"\u001b[39m \u001b[38;5;129;01mnot\u001b[39;00m \u001b[38;5;129;01min\u001b[39;00m mode:\n\u001b[1;32m   1879\u001b[0m         mode \u001b[38;5;241m+\u001b[39m\u001b[38;5;241m=\u001b[39m \u001b[38;5;124m\"\u001b[39m\u001b[38;5;124mb\u001b[39m\u001b[38;5;124m\"\u001b[39m\n\u001b[0;32m-> 1880\u001b[0m \u001b[38;5;28mself\u001b[39m\u001b[38;5;241m.\u001b[39mhandles \u001b[38;5;241m=\u001b[39m get_handle(\n\u001b[1;32m   1881\u001b[0m     f,\n\u001b[1;32m   1882\u001b[0m     mode,\n\u001b[1;32m   1883\u001b[0m     encoding\u001b[38;5;241m=\u001b[39m\u001b[38;5;28mself\u001b[39m\u001b[38;5;241m.\u001b[39moptions\u001b[38;5;241m.\u001b[39mget(\u001b[38;5;124m\"\u001b[39m\u001b[38;5;124mencoding\u001b[39m\u001b[38;5;124m\"\u001b[39m, \u001b[38;5;28;01mNone\u001b[39;00m),\n\u001b[1;32m   1884\u001b[0m     compression\u001b[38;5;241m=\u001b[39m\u001b[38;5;28mself\u001b[39m\u001b[38;5;241m.\u001b[39moptions\u001b[38;5;241m.\u001b[39mget(\u001b[38;5;124m\"\u001b[39m\u001b[38;5;124mcompression\u001b[39m\u001b[38;5;124m\"\u001b[39m, \u001b[38;5;28;01mNone\u001b[39;00m),\n\u001b[1;32m   1885\u001b[0m     memory_map\u001b[38;5;241m=\u001b[39m\u001b[38;5;28mself\u001b[39m\u001b[38;5;241m.\u001b[39moptions\u001b[38;5;241m.\u001b[39mget(\u001b[38;5;124m\"\u001b[39m\u001b[38;5;124mmemory_map\u001b[39m\u001b[38;5;124m\"\u001b[39m, \u001b[38;5;28;01mFalse\u001b[39;00m),\n\u001b[1;32m   1886\u001b[0m     is_text\u001b[38;5;241m=\u001b[39mis_text,\n\u001b[1;32m   1887\u001b[0m     errors\u001b[38;5;241m=\u001b[39m\u001b[38;5;28mself\u001b[39m\u001b[38;5;241m.\u001b[39moptions\u001b[38;5;241m.\u001b[39mget(\u001b[38;5;124m\"\u001b[39m\u001b[38;5;124mencoding_errors\u001b[39m\u001b[38;5;124m\"\u001b[39m, \u001b[38;5;124m\"\u001b[39m\u001b[38;5;124mstrict\u001b[39m\u001b[38;5;124m\"\u001b[39m),\n\u001b[1;32m   1888\u001b[0m     storage_options\u001b[38;5;241m=\u001b[39m\u001b[38;5;28mself\u001b[39m\u001b[38;5;241m.\u001b[39moptions\u001b[38;5;241m.\u001b[39mget(\u001b[38;5;124m\"\u001b[39m\u001b[38;5;124mstorage_options\u001b[39m\u001b[38;5;124m\"\u001b[39m, \u001b[38;5;28;01mNone\u001b[39;00m),\n\u001b[1;32m   1889\u001b[0m )\n\u001b[1;32m   1890\u001b[0m \u001b[38;5;28;01massert\u001b[39;00m \u001b[38;5;28mself\u001b[39m\u001b[38;5;241m.\u001b[39mhandles \u001b[38;5;129;01mis\u001b[39;00m \u001b[38;5;129;01mnot\u001b[39;00m \u001b[38;5;28;01mNone\u001b[39;00m\n\u001b[1;32m   1891\u001b[0m f \u001b[38;5;241m=\u001b[39m \u001b[38;5;28mself\u001b[39m\u001b[38;5;241m.\u001b[39mhandles\u001b[38;5;241m.\u001b[39mhandle\n",
      "File \u001b[0;32m/opt/anaconda3/lib/python3.12/site-packages/pandas/io/common.py:873\u001b[0m, in \u001b[0;36mget_handle\u001b[0;34m(path_or_buf, mode, encoding, compression, memory_map, is_text, errors, storage_options)\u001b[0m\n\u001b[1;32m    868\u001b[0m \u001b[38;5;28;01melif\u001b[39;00m \u001b[38;5;28misinstance\u001b[39m(handle, \u001b[38;5;28mstr\u001b[39m):\n\u001b[1;32m    869\u001b[0m     \u001b[38;5;66;03m# Check whether the filename is to be opened in binary mode.\u001b[39;00m\n\u001b[1;32m    870\u001b[0m     \u001b[38;5;66;03m# Binary mode does not support 'encoding' and 'newline'.\u001b[39;00m\n\u001b[1;32m    871\u001b[0m     \u001b[38;5;28;01mif\u001b[39;00m ioargs\u001b[38;5;241m.\u001b[39mencoding \u001b[38;5;129;01mand\u001b[39;00m \u001b[38;5;124m\"\u001b[39m\u001b[38;5;124mb\u001b[39m\u001b[38;5;124m\"\u001b[39m \u001b[38;5;129;01mnot\u001b[39;00m \u001b[38;5;129;01min\u001b[39;00m ioargs\u001b[38;5;241m.\u001b[39mmode:\n\u001b[1;32m    872\u001b[0m         \u001b[38;5;66;03m# Encoding\u001b[39;00m\n\u001b[0;32m--> 873\u001b[0m         handle \u001b[38;5;241m=\u001b[39m \u001b[38;5;28mopen\u001b[39m(\n\u001b[1;32m    874\u001b[0m             handle,\n\u001b[1;32m    875\u001b[0m             ioargs\u001b[38;5;241m.\u001b[39mmode,\n\u001b[1;32m    876\u001b[0m             encoding\u001b[38;5;241m=\u001b[39mioargs\u001b[38;5;241m.\u001b[39mencoding,\n\u001b[1;32m    877\u001b[0m             errors\u001b[38;5;241m=\u001b[39merrors,\n\u001b[1;32m    878\u001b[0m             newline\u001b[38;5;241m=\u001b[39m\u001b[38;5;124m\"\u001b[39m\u001b[38;5;124m\"\u001b[39m,\n\u001b[1;32m    879\u001b[0m         )\n\u001b[1;32m    880\u001b[0m     \u001b[38;5;28;01melse\u001b[39;00m:\n\u001b[1;32m    881\u001b[0m         \u001b[38;5;66;03m# Binary mode\u001b[39;00m\n\u001b[1;32m    882\u001b[0m         handle \u001b[38;5;241m=\u001b[39m \u001b[38;5;28mopen\u001b[39m(handle, ioargs\u001b[38;5;241m.\u001b[39mmode)\n",
      "\u001b[0;31mFileNotFoundError\u001b[0m: [Errno 2] No such file or directory: '/Users/zerayacobmeshesha/Desktop/DevKit/fatherson.csv'"
     ]
    }
   ],
   "source": [
    "# Load the data with the correct path\n",
    "file_path = '~/Desktop/DevKit/fatherson.csv'\n",
    "data = pd.read_csv(file_path, delimiter='\\t')"
   ]
  },
  {
   "cell_type": "code",
   "execution_count": null,
   "id": "8cbf137e-db13-464a-9e98-a880c41640c8",
   "metadata": {},
   "outputs": [],
   "source": [
    "# Convert the columns to numeric, forcing errors to NaN\n",
    "data['fheight'] = pd.to_numeric(data['fheight'], errors='coerce')\n",
    "data['sheight'] = pd.to_numeric(data['sheight'], errors='coerce')\n",
    "\n",
    "# Drop rows with NaN values\n",
    "data = data.dropna()\n",
    "\n",
    "# Display the first few rows \n",
    "print(\"First few rows of the dataset:\")\n",
    "print(data.head())\n",
    "\n",
    "print(data.describe())"
   ]
  },
  {
   "cell_type": "markdown",
   "id": "9e0d716f",
   "metadata": {},
   "source": [
    "\n"
   ]
  },
  {
   "cell_type": "code",
   "execution_count": null,
   "id": "c12b643a-efb0-4d96-a716-f65cfdc353a4",
   "metadata": {},
   "outputs": [],
   "source": [
    "# Convert the columns to numeric, forcing errors to NaN\n",
    "data['fheight'] = pd.to_numeric(data['fheight'], errors='coerce')\n",
    "data['sheight'] = pd.to_numeric(data['sheight'], errors='coerce')\n",
    "\n",
    "# Drop rows with NaN values (if any)\n",
    "data = data.dropna()\n",
    "\n",
    "# Display the first few rows of the cleaned dataset and summary statistics\n",
    "print(\"First few rows of the dataset:\")\n",
    "print(data.head())\n",
    "\n",
    "print(\"\\nSummary statistics:\")\n",
    "print(data.describe())\n",
    "\n",
    "# Create density plots for fathers' and sons' heights\n",
    "plt.figure(figsize=(10, 6))\n",
    "sns.kdeplot(data['fheight'], label=\"Fathers' Height\")\n",
    "sns.kdeplot(data['sheight'], label=\"Sons' Height\")\n",
    "plt.title(\"Density Plot of Fathers' and Sons' Heights\")\n",
    "plt.xlabel(\"Height (cm)\")\n",
    "plt.ylabel(\"Density\")\n",
    "plt.legend()\n",
    "plt.show()"
   ]
  },
  {
   "cell_type": "markdown",
   "id": "4144c493",
   "metadata": {},
   "source": [
    "\n"
   ]
  },
  {
   "cell_type": "markdown",
   "id": "d9b37b47-5c90-406d-bede-09a2e1bae635",
   "metadata": {},
   "source": [
    "### Perform t-test: Compute t-statistic\n",
    "\n",
    "To determine whether the difference in means between fathers' and sons' heights is statistically significant, I will compute the **t-statistic** manually, without using any pre-existing t-test functions.\n",
    "\n",
    "Steps:\n",
    "1. **Calculate the Pooled Standard Error**: This is done by combining the standard deviations of the two groups to account for variability within each group.\n",
    "2. **Calculate the t-statistic**: Using the difference between the means and the pooled standard error, the t-statistic will be computed.\n",
    "\n",
    "The pooled standard deviation is used to account for the fact that the two groups (fathers and sons) might have different variabilities, and it provides a more accurate measure of the true population variance by combining the two sample variances.\n",
    "\n",
    "Finally, I will analyze the computed t-statistic to determine whether the difference in heights is statistically significant."
   ]
  },
  {
   "cell_type": "code",
   "execution_count": null,
   "id": "21d7a8d2-bf9f-4131-addd-6f178922069a",
   "metadata": {},
   "outputs": [],
   "source": [
    "# Calculate means and standard deviations\n",
    "mean_fathers = data['fheight'].mean()\n",
    "mean_sons = data['sheight'].mean()\n",
    "std_fathers = data['fheight'].std()\n",
    "std_sons = data['sheight'].std()\n",
    "\n",
    "# Calculate number of observations\n",
    "n_fathers = data['fheight'].count()\n",
    "n_sons = data['sheight'].count()\n",
    "\n",
    "# Calculate pooled standard deviation\n",
    "s_p = np.sqrt(((n_fathers - 1) * std_fathers**2 + (n_sons - 1) * std_sons**2) / (n_fathers + n_sons - 2))\n",
    "# Calculate t-statistic\n",
    "t_statistic = (mean_fathers - mean_sons) / (s_p * np.sqrt(1/n_fathers + 1/n_sons))\n",
    "\n",
    "t_statistic"
   ]
  },
  {
   "cell_type": "code",
   "execution_count": null,
   "id": "624c0b71-288b-4f6d-b9bf-02e333e25b8c",
   "metadata": {},
   "outputs": [],
   "source": [
    "''' We use a pooled standard deviation to estimate the standard deviation of the entire population from which both samples are drawn. \n",
    "It is used when the variances of the two samples are assumed to be equal.'''"
   ]
  },
  {
   "cell_type": "markdown",
   "id": "f78be627",
   "metadata": {},
   "source": [
    "\n"
   ]
  },
  {
   "cell_type": "code",
   "execution_count": null,
   "id": "46d24414-e107-4dee-837c-d33a5715154f",
   "metadata": {},
   "outputs": [],
   "source": [
    "# Perform the t-test \n",
    "t_statistic_scipy, p_value = stats.ttest_ind(data['fheight'], data['sheight'])\n",
    "\n",
    "t_statistic_scipy, p_value"
   ]
  },
  {
   "cell_type": "markdown",
   "id": "bd32b79a",
   "metadata": {},
   "source": [
    "\n"
   ]
  },
  {
   "cell_type": "markdown",
   "id": "5c6cf9fd",
   "metadata": {},
   "source": [
    "### Monte Carlo Simulation: Father-Son Height Comparison\n",
    "\n",
    "In this step, I will run a Monte Carlo simulation to further analyze the father-son height data.\n",
    "\n",
    "- **Compute Mean and Standard Deviation**: Calculate the overall mean and standard deviation of combined father and son heights.\n",
    "- **Generate Random Variables**: Create two sets of normal random variables (length 1100) for fathers and sons using the same mean and standard deviation.\n",
    "- **Mean Difference**: Calculate the mean difference between the two groups and compare it to the previous t-test result.\n",
    "\n",
    "This simulation allows for a deeper understanding of height differences through random sampling and comparison."
   ]
  },
  {
   "cell_type": "code",
   "execution_count": null,
   "id": "2f8ee44f-2d34-4193-b748-a6f0b2d3ece7",
   "metadata": {},
   "outputs": [],
   "source": [
    "combined_data = np.concatenate([data['fheight'], data['sheight']])\n",
    "\n",
    "# Overall mean and standard deviation\n",
    "overall_mean = np.mean(combined_data)\n",
    "overall_std = np.std(combined_data)\n",
    "\n",
    "# Set seed for reproducibility\n",
    "np.random.seed(42)\n",
    "\n",
    "# Create normal distributions for fathers and sons\n",
    "n_samples = 1100\n",
    "simulated_fathers = np.random.normal(loc=overall_mean, scale=overall_std, size=n_samples)\n",
    "simulated_sons = np.random.normal(loc=overall_mean, scale=overall_std, size=n_samples)\n",
    "\n",
    "# Calculate the mean difference\n",
    "mean_difference = np.mean(simulated_fathers) - np.mean(simulated_sons)\n",
    "\n",
    "mean_difference"
   ]
  },
  {
   "cell_type": "markdown",
   "id": "e30eed8c",
   "metadata": {},
   "source": [
    "\n"
   ]
  },
  {
   "cell_type": "markdown",
   "id": "87423c7c",
   "metadata": {},
   "source": [
    "### Monte Carlo Simulations: Repeated Sampling\n",
    "\n",
    "In this step, I will run **R = 1000** Monte Carlo simulations:\n",
    "\n",
    "- **Repeat Simulation**: Generate random distributions for fathers and sons, calculating the mean difference each time.\n",
    "- **Store and Plot Differences**: Store the mean differences and plot their distribution.\n",
    "- **Analysis**: Calculate the mean and standard deviation of the differences, then compare these results to the original father-son dataset.\n",
    "\n",
    "This process helps assess the variability and consistency of the height differences through repeated random sampling."
   ]
  },
  {
   "cell_type": "code",
   "execution_count": null,
   "id": "23cde2b0-7a6b-4b5e-9b20-5d8d4222510c",
   "metadata": {},
   "outputs": [],
   "source": [
    "# Parameters\n",
    "n_simulations = 1000\n",
    "differences = []\n",
    "\n",
    "# Run Monte Carlo simulations\n",
    "for _ in range(n_simulations):\n",
    "    fathers_sample = np.random.normal(loc=overall_mean, scale=overall_std, size=n_samples)\n",
    "    sons_sample = np.random.normal(loc=overall_mean, scale=overall_std, size=n_samples)\n",
    "    diff = np.mean(fathers_sample) - np.mean(sons_sample)\n",
    "    differences.append(diff)\n",
    "\n",
    "# Convert differences to a numpy array\n",
    "differences = np.array(differences)\n",
    "\n",
    "# Plot the distribution of differences\n",
    "plt.figure(figsize=(10, 6))\n",
    "plt.hist(differences, bins=30, density=True, alpha=0.7, color='g')\n",
    "plt.title('Distribution of Differences from Monte Carlo Simulations')\n",
    "plt.xlabel('Difference in Means')\n",
    "plt.ylabel('Density')\n",
    "plt.show()\n",
    "\n",
    "# Calculate and print the mean and standard deviation of the differences\n",
    "mean_of_differences = np.mean(differences)\n",
    "std_of_differences = np.std(differences)\n",
    "\n",
    "mean_of_differences, std_of_differences"
   ]
  },
  {
   "cell_type": "markdown",
   "id": "0c192d6c",
   "metadata": {},
   "source": [
    "\n"
   ]
  },
  {
   "cell_type": "markdown",
   "id": "814a689e",
   "metadata": {},
   "source": [
    "### Percentile Calculation\n",
    "\n",
    "In this step, I will calculate key percentiles from the distribution of differences generated in the Monte Carlo simulations:\n",
    "\n",
    "- **Percentiles**: Compute the 90th, 95th, and 99th percentiles, along with the maximum of the distribution.\n",
    "- **Comparison**: Compare these percentiles to the differences calculated from the original father-son dataset.\n",
    "- **Conclusion**: Based on this comparison, analyze what the dataset reveals about the relationship between the generated and observed data.\n",
    "\n",
    "This analysis helps determine how the observed dataset aligns with the simulated distribution of differences."
   ]
  },
  {
   "cell_type": "code",
   "execution_count": null,
   "id": "e323e8df-9e63-4fa1-a4ba-69e5154e430d",
   "metadata": {},
   "outputs": [],
   "source": [
    "# Calculate percentiles\n",
    "percentiles = np.percentile(differences, [90, 95, 99])\n",
    "max_difference = np.max(differences)\n",
    "\n",
    "percentiles, max_difference"
   ]
  },
  {
   "cell_type": "markdown",
   "id": "734f51cf-fc75-4134-b6d0-6e444df53d84",
   "metadata": {},
   "source": [
    "If the observed mean difference exceeds the 95th or 99th percentile, it indicates that the difference in heights between fathers and sons is statistically significant and unlikely to be due to random variation. This suggests that the observed difference reflects a genuine generational effect rather than random sampling. The Monte Carlo simulation provides a robust framework for determining whether the variation in the dataset is consistent with natural variability or indicative of a meaningful trend."
   ]
  },
  {
   "cell_type": "markdown",
   "id": "ef6aafba",
   "metadata": {},
   "source": [
    "\n"
   ]
  }
 ],
 "metadata": {
  "kernelspec": {
   "display_name": "Python 3 (ipykernel)",
   "language": "python",
   "name": "python3"
  },
  "language_info": {
   "codemirror_mode": {
    "name": "ipython",
    "version": 3
   },
   "file_extension": ".py",
   "mimetype": "text/x-python",
   "name": "python",
   "nbconvert_exporter": "python",
   "pygments_lexer": "ipython3",
   "version": "3.12.4"
  }
 },
 "nbformat": 4,
 "nbformat_minor": 5
}
