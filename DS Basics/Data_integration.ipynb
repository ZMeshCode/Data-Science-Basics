{
 "cells": [
  {
   "cell_type": "markdown",
   "id": "52c53847-1ed5-45ff-adbb-f3d4a1a9673c",
   "metadata": {},
   "source": [
    "## Data Integration and Analysis\n",
    "\n",
    "In this lab, I will focus on integrating multiple datasets and performing comprehensive data analysis. The goal is to explore techniques for combining, transforming, and analyzing data from various sources to uncover meaningful insights. Key steps in this process include:\n",
    "\n",
    "1. **Data Integration**: Combining multiple datasets into a single, coherent structure.\n",
    "2. **Data Cleaning**: Handling missing or inconsistent data to ensure accuracy in the analysis.\n",
    "3. **Exploratory Data Analysis**: Using visualizations and summary statistics to reveal patterns and trends across the integrated dataset.\n",
    "\n",
    "This lab emphasizes the importance of working with diverse data sources and the challenges of integrating them effectively for analysis. The data we will use comes from the City of Seattle. It consists of police beats in the Seattle area and provides information on their geographic locations. "
   ]
  },
  {
   "cell_type": "code",
   "execution_count": 2,
   "id": "99dc64a7",
   "metadata": {},
   "outputs": [],
   "source": [
    "import pandas as pd\n",
    "beats_data = pd.read_csv('Police_Beat_and_Precinct_Centerpoints.csv')"
   ]
  },
  {
   "cell_type": "code",
   "execution_count": 3,
   "id": "6268beee",
   "metadata": {},
   "outputs": [
    {
     "data": {
      "text/html": [
       "<div>\n",
       "<style scoped>\n",
       "    .dataframe tbody tr th:only-of-type {\n",
       "        vertical-align: middle;\n",
       "    }\n",
       "\n",
       "    .dataframe tbody tr th {\n",
       "        vertical-align: top;\n",
       "    }\n",
       "\n",
       "    .dataframe thead th {\n",
       "        text-align: right;\n",
       "    }\n",
       "</style>\n",
       "<table border=\"1\" class=\"dataframe\">\n",
       "  <thead>\n",
       "    <tr style=\"text-align: right;\">\n",
       "      <th></th>\n",
       "      <th>Name</th>\n",
       "      <th>Location 1</th>\n",
       "      <th>Latitude</th>\n",
       "      <th>Longitude</th>\n",
       "    </tr>\n",
       "  </thead>\n",
       "  <tbody>\n",
       "    <tr>\n",
       "      <th>0</th>\n",
       "      <td>B1</td>\n",
       "      <td>(47.7097756394592, -122.370990523069)</td>\n",
       "      <td>47.70978</td>\n",
       "      <td>-122.37099</td>\n",
       "    </tr>\n",
       "    <tr>\n",
       "      <th>1</th>\n",
       "      <td>B2</td>\n",
       "      <td>(47.6790521901374, -122.391748391741)</td>\n",
       "      <td>47.67905</td>\n",
       "      <td>-122.39175</td>\n",
       "    </tr>\n",
       "    <tr>\n",
       "      <th>2</th>\n",
       "      <td>B3</td>\n",
       "      <td>(47.6812920482227, -122.364236159741)</td>\n",
       "      <td>47.68129</td>\n",
       "      <td>-122.36424</td>\n",
       "    </tr>\n",
       "    <tr>\n",
       "      <th>3</th>\n",
       "      <td>C1</td>\n",
       "      <td>(47.6342500180223, -122.315684762418)</td>\n",
       "      <td>47.63425</td>\n",
       "      <td>-122.31568</td>\n",
       "    </tr>\n",
       "    <tr>\n",
       "      <th>4</th>\n",
       "      <td>C2</td>\n",
       "      <td>(47.6192385752996, -122.313557430551)</td>\n",
       "      <td>47.61924</td>\n",
       "      <td>-122.31356</td>\n",
       "    </tr>\n",
       "  </tbody>\n",
       "</table>\n",
       "</div>"
      ],
      "text/plain": [
       "  Name                             Location 1  Latitude  Longitude\n",
       "0   B1  (47.7097756394592, -122.370990523069)  47.70978 -122.37099\n",
       "1   B2  (47.6790521901374, -122.391748391741)  47.67905 -122.39175\n",
       "2   B3  (47.6812920482227, -122.364236159741)  47.68129 -122.36424\n",
       "3   C1  (47.6342500180223, -122.315684762418)  47.63425 -122.31568\n",
       "4   C2  (47.6192385752996, -122.313557430551)  47.61924 -122.31356"
      ]
     },
     "execution_count": 3,
     "metadata": {},
     "output_type": "execute_result"
    }
   ],
   "source": [
    "beats_data.head()"
   ]
  },
  {
   "cell_type": "markdown",
   "id": "45cd7a53",
   "metadata": {},
   "source": [
    "### Inspection"
   ]
  },
  {
   "cell_type": "code",
   "execution_count": 5,
   "id": "51d7d764-55bf-45f0-8ccd-bd385cb56df1",
   "metadata": {},
   "outputs": [
    {
     "name": "stdout",
     "output_type": "stream",
     "text": [
      "<class 'pandas.core.frame.DataFrame'>\n",
      "RangeIndex: 57 entries, 0 to 56\n",
      "Data columns (total 4 columns):\n",
      " #   Column      Non-Null Count  Dtype  \n",
      "---  ------      --------------  -----  \n",
      " 0   Name        57 non-null     object \n",
      " 1   Location 1  57 non-null     object \n",
      " 2   Latitude    57 non-null     float64\n",
      " 3   Longitude   57 non-null     float64\n",
      "dtypes: float64(2), object(2)\n",
      "memory usage: 1.9+ KB\n"
     ]
    }
   ],
   "source": [
    "beats_data.info()"
   ]
  },
  {
   "cell_type": "code",
   "execution_count": 6,
   "id": "d8cff8bb-3789-4e4d-9ea1-24a6333ac113",
   "metadata": {},
   "outputs": [
    {
     "data": {
      "text/plain": [
       "Name          0\n",
       "Location 1    0\n",
       "Latitude      0\n",
       "Longitude     0\n",
       "dtype: int64"
      ]
     },
     "execution_count": 6,
     "metadata": {},
     "output_type": "execute_result"
    }
   ],
   "source": [
    "missing_values = beats_data.isnull().sum()\n",
    "missing_values"
   ]
  },
  {
   "cell_type": "code",
   "execution_count": 7,
   "id": "91878f29-e92f-472f-be9d-dd8d00520c23",
   "metadata": {},
   "outputs": [
    {
     "data": {
      "text/plain": [
       "' There is 57 records, 4 variables, No missing data '"
      ]
     },
     "execution_count": 7,
     "metadata": {},
     "output_type": "execute_result"
    }
   ],
   "source": [
    "''' There is 57 records, 4 variables, No missing data '''"
   ]
  },
  {
   "cell_type": "markdown",
   "id": "402df903-a906-4bf7-9782-aec6fe09427f",
   "metadata": {},
   "source": [
    "### Using an API for Census Data Integration\n",
    "\n",
    "In this section, I use the **censusegocode** package to retrieve census tract information based on latitude and longitude coordinates. The `get_census_tract()` function returns the census tract **GEOID** for a given location, enabling integration of census data with the beats dataset.\n",
    "\n",
    "#### Purpose:\n",
    "- Retrieve census tract data using geographic coordinates.\n",
    "- Map locations to their respective **GEOID** for further analysis."
   ]
  },
  {
   "cell_type": "code",
   "execution_count": 9,
   "id": "3cab3057-cda1-4854-b5ef-646f1884f5c1",
   "metadata": {},
   "outputs": [],
   "source": [
    "import censusgeocode as cg"
   ]
  },
  {
   "cell_type": "code",
   "execution_count": 10,
   "id": "581aa9bb-a773-45ff-81e8-b682b5cd4077",
   "metadata": {},
   "outputs": [
    {
     "name": "stdout",
     "output_type": "stream",
     "text": [
      "53033001400\n"
     ]
    }
   ],
   "source": [
    "import censusgeocode as cg\n",
    "\n",
    "def get_census_tract(lon, lat):\n",
    "    try:\n",
    "        result = cg.coordinates(x=lon, y=lat)\n",
    "        if result and 'Census Tracts' in result and result['Census Tracts']:\n",
    "            return result['Census Tracts'][0]['GEOID']\n",
    "        else:\n",
    "            return None\n",
    "    except Exception as e:\n",
    "        print(f\"Error retrieving census tract: {e}\")\n",
    "        return None\n",
    "\n",
    "# Example usage\n",
    "longitude = -122.37099\n",
    "latitude = 47.70978\n",
    "print(get_census_tract(longitude, latitude))"
   ]
  },
  {
   "cell_type": "code",
   "execution_count": 11,
   "id": "f7e1526d",
   "metadata": {},
   "outputs": [
    {
     "data": {
      "text/plain": [
       "'06037980009'"
      ]
     },
     "execution_count": 11,
     "metadata": {},
     "output_type": "execute_result"
    }
   ],
   "source": [
    "get_census_tract(-118.321495, 34.134117) #should return '06037980009'"
   ]
  },
  {
   "cell_type": "markdown",
   "id": "695c8d2d-5ead-4035-a726-9b962f4cfaf6",
   "metadata": {},
   "source": [
    "### Getting Census Tracts for Beats Data\n",
    "\n",
    "In this section, I retrieve census tract information for each beat in the beats dataset using the previously defined `get_census_tract()` function. Additionally, I check if each beat is located in King County (tracts starting with '53033').\n",
    "\n",
    "- **Census Tract Retrieval**: Census tracts are assigned to beats based on their geographic coordinates.\n",
    "- **King County Check**: Each tract is verified to ensure it's within King County (code '53033').\n",
    "- **Output**: The updated dataset is saved for future use.zz\n",
    "\n",
    "This process helps in associating geographic data with specific beats for further analysis."
   ]
  },
  {
   "cell_type": "code",
   "execution_count": 26,
   "id": "c4689352-886a-4afe-b387-249d1fe73890",
   "metadata": {},
   "outputs": [],
   "source": [
    "beats_data['CensusTract'] = beats_data.apply(lambda row: get_census_tract(row['Longitude'], row['Latitude']), axis=1)"
   ]
  },
  {
   "cell_type": "code",
   "execution_count": 14,
   "id": "83dac33e-cea9-4c15-856f-3d3d47699a32",
   "metadata": {},
   "outputs": [],
   "source": [
    "beats_data['InKingCounty'] = beats_data['CensusTract'].apply(lambda x: x.startswith('53033') if x else False)"
   ]
  },
  {
   "cell_type": "code",
   "execution_count": 15,
   "id": "0eccb990-4560-4e6d-9f71-cf7ab1502a6d",
   "metadata": {},
   "outputs": [],
   "source": [
    "not_in_king_county = beats_data[~beats_data['InKingCounty']]\n",
    "if not not_in_king_county.empty:\n",
    "    print(\"Tracts not in King County:\")\n",
    "    print(not_in_king_county)"
   ]
  },
  {
   "cell_type": "code",
   "execution_count": 16,
   "id": "88e8f293-a9c4-4695-b41e-3ab39b2fa486",
   "metadata": {},
   "outputs": [],
   "source": [
    "#save updated dataset\n",
    "output_file_path = '/Users/yourusername/Desktop/DevKit/Updated_Police_Beat_and_Precinct_Centerpoints.csv' "
   ]
  }
 ],
 "metadata": {
  "kernelspec": {
   "display_name": "Python 3 (ipykernel)",
   "language": "python",
   "name": "python3"
  },
  "language_info": {
   "codemirror_mode": {
    "name": "ipython",
    "version": 3
   },
   "file_extension": ".py",
   "mimetype": "text/x-python",
   "name": "python",
   "nbconvert_exporter": "python",
   "pygments_lexer": "ipython3",
   "version": "3.12.4"
  }
 },
 "nbformat": 4,
 "nbformat_minor": 5
}
