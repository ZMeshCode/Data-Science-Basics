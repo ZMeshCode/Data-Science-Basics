{
 "cells": [
  {
   "cell_type": "markdown",
   "id": "d71e86da-e386-406e-b9e8-3881353b75b9",
   "metadata": {},
   "source": [
    "## Working with Data\n",
    "\n",
    "In this problem set, I will focus on the practical aspects of working with real-world datasets. The goal is to apply various data wrangling, cleaning, and transformation techniques to prepare the data for analysis. Key tasks include:\n",
    "\n",
    "1. **Data Cleaning**: Handling missing values and addressing inconsistencies in the dataset.\n",
    "2. **Data Transformation**: Applying feature engineering techniques to create useful variables.\n",
    "3. **Exploratory Data Analysis**: Using visualizations and summary statistics to uncover patterns and insights.\n",
    "\n",
    "This problem set emphasizes the importance of preparing data properly before any analysis or modeling can take place."
   ]
  },
  {
   "cell_type": "code",
   "execution_count": 2,
   "id": "03fe97f9",
   "metadata": {},
   "outputs": [],
   "source": [
    "import pandas as pd\n",
    "import seaborn as sns\n",
    "import matplotlib.pyplot as plt"
   ]
  },
  {
   "cell_type": "markdown",
   "id": "10f86163",
   "metadata": {},
   "source": [
    "### Describing the animal shelter data "
   ]
  },
  {
   "cell_type": "code",
   "execution_count": 4,
   "id": "08b869a0-aba6-4393-abae-2136cf471a83",
   "metadata": {},
   "outputs": [],
   "source": [
    "data = pd.read_csv('animal-shelter-intakes-and-outcomes-1.csv')"
   ]
  },
  {
   "cell_type": "code",
   "execution_count": 5,
   "id": "f07d512e-8b22-4570-91cf-9b3e19578757",
   "metadata": {},
   "outputs": [
    {
     "data": {
      "text/plain": [
       "<bound method NDFrame.head of       Animal ID     Animal Name Animal Type Primary Color Secondary Color  \\\n",
       "0       A002500        PENELOPE         DOG         WHITE             NaN   \n",
       "1       A226033          SNOOPY         DOG         WHITE             NaN   \n",
       "2       A234250            NINA         DOG    BR BRINDLE             NaN   \n",
       "3       A238953            CECE         DOG          BUFF             NaN   \n",
       "4       A242600           BARBY         DOG         BLACK             NaN   \n",
       "...         ...             ...         ...           ...             ...   \n",
       "39881   A707543  GEORGIE (PUP4)         DOG           TAN             NaN   \n",
       "39882   A707556          *VENTI         CAT    GRAY TABBY             NaN   \n",
       "39883   A707578           *SNOW         CAT         WHITE             NaN   \n",
       "39884   A707580           *OREO         CAT         BLACK           WHITE   \n",
       "39885   A707606           *LOLA         DOG         BLACK           BROWN   \n",
       "\n",
       "            Sex         DOB   Age Intake Date  Intake Condition  ...  \\\n",
       "0        Spayed  2008-12-09  14.0  2017-07-02            NORMAL  ...   \n",
       "1      Neutered  2002-02-23  21.0  2017-10-08            NORMAL  ...   \n",
       "2        Spayed  2008-08-01  15.0  2018-06-01        ILL SEVERE  ...   \n",
       "3        Female  2013-07-17  10.0  2017-01-03            NORMAL  ...   \n",
       "4        Spayed  2007-10-27  15.0  2020-11-18            NORMAL  ...   \n",
       "...         ...         ...   ...         ...               ...  ...   \n",
       "39881      Male  2023-08-10   0.0  2023-09-24  UNDER AGE/WEIGHT  ...   \n",
       "39882      Male  2023-07-31   0.0  2023-09-24  UNDER AGE/WEIGHT  ...   \n",
       "39883    Female  2023-08-13   0.0  2023-09-24  UNDER AGE/WEIGHT  ...   \n",
       "39884      Male  2023-08-24   0.0  2023-09-24  UNDER AGE/WEIGHT  ...   \n",
       "39885    Female  2023-05-24   0.0  2023-09-24            NORMAL  ...   \n",
       "\n",
       "      Intake Subtype Reason for Intake Outcome Date  \\\n",
       "0             POLICE               NaN   2017-07-03   \n",
       "1                OTC               NaN   2017-10-08   \n",
       "2            CRUELTY               NaN   2018-06-07   \n",
       "3              FIELD               NaN   2017-01-03   \n",
       "4                OTC               NaN   2020-11-19   \n",
       "...              ...               ...          ...   \n",
       "39881            OTC               NaN          NaN   \n",
       "39882            OTC               NaN          NaN   \n",
       "39883            OTC               NaN          NaN   \n",
       "39884            OTC               NaN          NaN   \n",
       "39885         POLICE               NaN          NaN   \n",
       "\n",
       "                                           Crossing Jurisdiction  \\\n",
       "0           4600 E OCEAN BLVD, LONG BEACH, CA 90803   LONG BEACH   \n",
       "1            13200 BLK ACORO PL, CERRITOS, CA 90703     CERRITOS   \n",
       "2           1900 W BURNETT ST, LONG BEACH, CA 90810   LONG BEACH   \n",
       "3             400 E HULLET ST, LONG BEACH, CA 90805   LONG BEACH   \n",
       "4        2000 BLK W COWLES ST, LONG BEACH, CA 90813   LONG BEACH   \n",
       "...                                             ...          ...   \n",
       "39881                                           NaN   LONG BEACH   \n",
       "39882  900 BLK E SPRING STREET SIGNAL HILL CA 90755  SIGNAL HILL   \n",
       "39883      100 BLK MIRA MAR AVE LONG BEACH CA 90803   LONG BEACH   \n",
       "39884               600 BLOCK PIER D, LONG BEACH CA   LONG BEACH   \n",
       "39885                             1880 SANTA FE AVE   LONG BEACH   \n",
       "\n",
       "          Outcome Type Outcome Subtype   intake_is_dead outcome_is_dead  \\\n",
       "0      RETURN TO OWNER      FRE RID HM  Alive on Intake           False   \n",
       "1      RETURN TO OWNER      FRE RID HM  Alive on Intake           False   \n",
       "2           EUTHANASIA      ILL SEVERE  Alive on Intake            True   \n",
       "3      RETURN TO OWNER      FRE RID HM  Alive on Intake           False   \n",
       "4               RESCUE        LIVELOVE  Alive on Intake           False   \n",
       "...                ...             ...              ...             ...   \n",
       "39881              NaN             NaN  Alive on Intake           False   \n",
       "39882              NaN             NaN  Alive on Intake           False   \n",
       "39883              NaN             NaN  Alive on Intake           False   \n",
       "39884              NaN             NaN  Alive on Intake           False   \n",
       "39885              NaN             NaN  Alive on Intake           False   \n",
       "\n",
       "       was_outcome_alive  \n",
       "0                      1  \n",
       "1                      1  \n",
       "2                      0  \n",
       "3                      1  \n",
       "4                      1  \n",
       "...                  ...  \n",
       "39881                  1  \n",
       "39882                  1  \n",
       "39883                  1  \n",
       "39884                  1  \n",
       "39885                  1  \n",
       "\n",
       "[39886 rows x 21 columns]>"
      ]
     },
     "execution_count": 5,
     "metadata": {},
     "output_type": "execute_result"
    }
   ],
   "source": [
    "data.head"
   ]
  },
  {
   "cell_type": "code",
   "execution_count": 6,
   "id": "f4575f82-bdf2-4d12-8bcf-ea3cb6c850a4",
   "metadata": {},
   "outputs": [
    {
     "data": {
      "text/plain": [
       "<bound method NDFrame.describe of       Animal ID     Animal Name Animal Type Primary Color Secondary Color  \\\n",
       "0       A002500        PENELOPE         DOG         WHITE             NaN   \n",
       "1       A226033          SNOOPY         DOG         WHITE             NaN   \n",
       "2       A234250            NINA         DOG    BR BRINDLE             NaN   \n",
       "3       A238953            CECE         DOG          BUFF             NaN   \n",
       "4       A242600           BARBY         DOG         BLACK             NaN   \n",
       "...         ...             ...         ...           ...             ...   \n",
       "39881   A707543  GEORGIE (PUP4)         DOG           TAN             NaN   \n",
       "39882   A707556          *VENTI         CAT    GRAY TABBY             NaN   \n",
       "39883   A707578           *SNOW         CAT         WHITE             NaN   \n",
       "39884   A707580           *OREO         CAT         BLACK           WHITE   \n",
       "39885   A707606           *LOLA         DOG         BLACK           BROWN   \n",
       "\n",
       "            Sex         DOB   Age Intake Date  Intake Condition  ...  \\\n",
       "0        Spayed  2008-12-09  14.0  2017-07-02            NORMAL  ...   \n",
       "1      Neutered  2002-02-23  21.0  2017-10-08            NORMAL  ...   \n",
       "2        Spayed  2008-08-01  15.0  2018-06-01        ILL SEVERE  ...   \n",
       "3        Female  2013-07-17  10.0  2017-01-03            NORMAL  ...   \n",
       "4        Spayed  2007-10-27  15.0  2020-11-18            NORMAL  ...   \n",
       "...         ...         ...   ...         ...               ...  ...   \n",
       "39881      Male  2023-08-10   0.0  2023-09-24  UNDER AGE/WEIGHT  ...   \n",
       "39882      Male  2023-07-31   0.0  2023-09-24  UNDER AGE/WEIGHT  ...   \n",
       "39883    Female  2023-08-13   0.0  2023-09-24  UNDER AGE/WEIGHT  ...   \n",
       "39884      Male  2023-08-24   0.0  2023-09-24  UNDER AGE/WEIGHT  ...   \n",
       "39885    Female  2023-05-24   0.0  2023-09-24            NORMAL  ...   \n",
       "\n",
       "      Intake Subtype Reason for Intake Outcome Date  \\\n",
       "0             POLICE               NaN   2017-07-03   \n",
       "1                OTC               NaN   2017-10-08   \n",
       "2            CRUELTY               NaN   2018-06-07   \n",
       "3              FIELD               NaN   2017-01-03   \n",
       "4                OTC               NaN   2020-11-19   \n",
       "...              ...               ...          ...   \n",
       "39881            OTC               NaN          NaN   \n",
       "39882            OTC               NaN          NaN   \n",
       "39883            OTC               NaN          NaN   \n",
       "39884            OTC               NaN          NaN   \n",
       "39885         POLICE               NaN          NaN   \n",
       "\n",
       "                                           Crossing Jurisdiction  \\\n",
       "0           4600 E OCEAN BLVD, LONG BEACH, CA 90803   LONG BEACH   \n",
       "1            13200 BLK ACORO PL, CERRITOS, CA 90703     CERRITOS   \n",
       "2           1900 W BURNETT ST, LONG BEACH, CA 90810   LONG BEACH   \n",
       "3             400 E HULLET ST, LONG BEACH, CA 90805   LONG BEACH   \n",
       "4        2000 BLK W COWLES ST, LONG BEACH, CA 90813   LONG BEACH   \n",
       "...                                             ...          ...   \n",
       "39881                                           NaN   LONG BEACH   \n",
       "39882  900 BLK E SPRING STREET SIGNAL HILL CA 90755  SIGNAL HILL   \n",
       "39883      100 BLK MIRA MAR AVE LONG BEACH CA 90803   LONG BEACH   \n",
       "39884               600 BLOCK PIER D, LONG BEACH CA   LONG BEACH   \n",
       "39885                             1880 SANTA FE AVE   LONG BEACH   \n",
       "\n",
       "          Outcome Type Outcome Subtype   intake_is_dead outcome_is_dead  \\\n",
       "0      RETURN TO OWNER      FRE RID HM  Alive on Intake           False   \n",
       "1      RETURN TO OWNER      FRE RID HM  Alive on Intake           False   \n",
       "2           EUTHANASIA      ILL SEVERE  Alive on Intake            True   \n",
       "3      RETURN TO OWNER      FRE RID HM  Alive on Intake           False   \n",
       "4               RESCUE        LIVELOVE  Alive on Intake           False   \n",
       "...                ...             ...              ...             ...   \n",
       "39881              NaN             NaN  Alive on Intake           False   \n",
       "39882              NaN             NaN  Alive on Intake           False   \n",
       "39883              NaN             NaN  Alive on Intake           False   \n",
       "39884              NaN             NaN  Alive on Intake           False   \n",
       "39885              NaN             NaN  Alive on Intake           False   \n",
       "\n",
       "       was_outcome_alive  \n",
       "0                      1  \n",
       "1                      1  \n",
       "2                      0  \n",
       "3                      1  \n",
       "4                      1  \n",
       "...                  ...  \n",
       "39881                  1  \n",
       "39882                  1  \n",
       "39883                  1  \n",
       "39884                  1  \n",
       "39885                  1  \n",
       "\n",
       "[39886 rows x 21 columns]>"
      ]
     },
     "execution_count": 6,
     "metadata": {},
     "output_type": "execute_result"
    }
   ],
   "source": [
    "data.describe"
   ]
  },
  {
   "cell_type": "markdown",
   "id": "e077d70c",
   "metadata": {},
   "source": [
    "#### Summarize\n",
    "\n",
    "Answered the following questions to describe and summarize the data:\n",
    "\n",
    "- How many records are in the data?\n",
    "- How many unique animals are in the data?\n",
    "- How many types of animals are included in the data? What types are these?\n",
    "- Across how many years does the data span? What are the years?\n",
    "- How many primarily black cats less than 3 years of age were found in Los Alamitos?\n",
    "- What is the most common primary/secondary color combination in the data (consider only when both colors are listed)?"
   ]
  },
  {
   "cell_type": "code",
   "execution_count": 8,
   "id": "68c9e223-c128-471a-9590-457c3a88f8f0",
   "metadata": {},
   "outputs": [
    {
     "name": "stdout",
     "output_type": "stream",
     "text": [
      "39886\n"
     ]
    }
   ],
   "source": [
    "#How many records are in the data?\n",
    "num_records = data.shape[0]\n",
    "print( num_records)"
   ]
  },
  {
   "cell_type": "code",
   "execution_count": 9,
   "id": "92b4a5e7-b6e3-427c-bb40-a37aedb05f02",
   "metadata": {},
   "outputs": [
    {
     "name": "stdout",
     "output_type": "stream",
     "text": [
      "38554\n"
     ]
    }
   ],
   "source": [
    "#How many unique animals are in the data?\n",
    "num_unique_animals = data['Animal ID'].nunique()\n",
    "print(num_unique_animals)"
   ]
  },
  {
   "cell_type": "code",
   "execution_count": 10,
   "id": "1c49a005-c269-4d46-b614-94d5d6977dd7",
   "metadata": {},
   "outputs": [
    {
     "name": "stdout",
     "output_type": "stream",
     "text": [
      "10\n",
      "['DOG' 'CAT' 'RABBIT' 'REPTILE' 'BIRD' 'OTHER' 'LIVESTOCK' 'WILD'\n",
      " 'GUINEA PIG' 'AMPHIBIAN']\n"
     ]
    }
   ],
   "source": [
    "# Number of types of animals and the types\n",
    "animal_types = data['Animal Type'].nunique()\n",
    "unique_animal_types = data['Animal Type'].unique()\n",
    "print(animal_types)\n",
    "print(unique_animal_types)\n"
   ]
  },
  {
   "cell_type": "code",
   "execution_count": 11,
   "id": "13b8b9ee-4935-48ab-992b-909fe2801e5f",
   "metadata": {},
   "outputs": [
    {
     "name": "stdout",
     "output_type": "stream",
     "text": [
      "[2017 2018 2020 2021 2019 2022 2023]\n",
      "7\n"
     ]
    }
   ],
   "source": [
    "# Data span in years and the years\n",
    "data['Intake Date'] = pd.to_datetime(data['Intake Date'])\n",
    "years_span = data['Intake Date'].dt.year.unique()\n",
    "years_span_count = len(years_span)\n",
    "print( years_span)\n",
    "print(years_span_count)\n"
   ]
  },
  {
   "cell_type": "code",
   "execution_count": 12,
   "id": "42f252f8-91c2-422b-a48a-4668108e89e2",
   "metadata": {},
   "outputs": [
    {
     "name": "stdout",
     "output_type": "stream",
     "text": [
      "15\n"
     ]
    }
   ],
   "source": [
    "# Number of primarily black cats less than 3 years of age found in Los Alamitos\n",
    "data['DOB'] = pd.to_datetime(data['DOB'], errors='coerce')\n",
    "data['Age'] = (pd.to_datetime('today') - data['DOB']).dt.days / 365.25\n",
    "black_cats_los_alamitos = data[(data['Animal Type'] == 'CAT') & \n",
    "                               (data['Primary Color'] == 'BLACK') & \n",
    "                               (data['Age'] < 3) & \n",
    "                               (data['Jurisdiction'].str.upper() == 'LOS ALAMITOS')].shape[0]\n",
    "print( black_cats_los_alamitos)"
   ]
  },
  {
   "cell_type": "code",
   "execution_count": 13,
   "id": "06f0c286",
   "metadata": {},
   "outputs": [],
   "source": [
    "# Most common primary/secondary color combination\n",
    "color_combinations = data.dropna(subset=['Primary Color', 'Secondary Color'])\n",
    "most_common_color_combination = color_combinations.groupby(['Primary Color', 'Secondary Color']).size().idxmax()"
   ]
  },
  {
   "cell_type": "markdown",
   "id": "3e8b8e55",
   "metadata": {},
   "source": [
    "#### Typical ages\n",
    "\n",
    "What is the typical age of animals in the data?"
   ]
  },
  {
   "cell_type": "code",
   "execution_count": 15,
   "id": "71acfb12-b35a-4589-8d9b-512f70568a37",
   "metadata": {},
   "outputs": [
    {
     "data": {
      "text/plain": [
       "(6.905465792836545, 6.464065708418891)"
      ]
     },
     "execution_count": 15,
     "metadata": {},
     "output_type": "execute_result"
    }
   ],
   "source": [
    "# Calculate the mean and median age\n",
    "\n",
    "mean_age = data['Age'].mean()\n",
    "median_age = data['Age'].median()\n",
    "\n",
    "mean_age, median_age"
   ]
  },
  {
   "cell_type": "markdown",
   "id": "c18a6374",
   "metadata": {},
   "source": [
    "#### Defining ages "
   ]
  },
  {
   "cell_type": "code",
   "execution_count": 17,
   "id": "9c13c3ed-cd9f-46a4-8921-119bf8f20624",
   "metadata": {},
   "outputs": [],
   "source": [
    "#  I initially used the mean and median ages. These are common measures of central tendency that help to understand the typical value\n",
    "#in a dataset. The mean provides the average age, while the median gives the middle value when the ages are sorted."
   ]
  },
  {
   "cell_type": "code",
   "execution_count": 18,
   "id": "ab6273b0-faac-4360-ac14-8445c6541758",
   "metadata": {},
   "outputs": [
    {
     "data": {
      "image/png": "[encoded data removed]",
      "text/plain": [
       "<Figure size 640x480 with 1 Axes>"
      ]
     },
     "metadata": {},
     "output_type": "display_data"
    },
    {
     "data": {
      "text/plain": [
       "(5023,\n",
       " 5023,\n",
       " count    34863.000000\n",
       " mean         6.905466\n",
       " std          3.900592\n",
       " min         -6.447639\n",
       " 25%          4.168378\n",
       " 50%          6.464066\n",
       " 75%          8.609172\n",
       " max         56.892539\n",
       " Name: Age, dtype: float64,\n",
       "       Animal ID Animal Name Animal Type Primary Color Secondary Color     Sex  \\\n",
       " 8022    A600476      MRS. T     REPTILE         BROWN             NaN  Female   \n",
       " 13248   A706980         NaN     REPTILE         GREEN           BROWN    Male   \n",
       " 27323   A590980       STEVE     REPTILE         GREEN           BROWN    Male   \n",
       " 28628   A611828         NaN     REPTILE           TAN           BROWN    Male   \n",
       " 30963   A656513           *         CAT         BLACK           WHITE    Male   \n",
       " \n",
       "              DOB        Age Intake Date  Intake Condition  ... Intake Subtype  \\\n",
       " 8022  1967-11-26  56.892539  2017-11-26            NORMAL  ...     OWNER DIED   \n",
       " 13248 1993-09-15  31.088296  2023-09-15            NORMAL  ...          FIELD   \n",
       " 27323 1993-05-28  31.389459  2017-05-28            NORMAL  ...            OTC   \n",
       " 28628 1993-07-28  31.222450  2018-07-28            NORMAL  ...            OTC   \n",
       " 30963 2031-03-30  -6.447639  2021-04-21  UNDER AGE/WEIGHT  ...            OTC   \n",
       " \n",
       "       Reason for Intake Outcome Date  \\\n",
       " 8022                NaN   2017-11-29   \n",
       " 13248               NaN   2023-09-19   \n",
       " 27323              MOVE   2017-05-30   \n",
       " 28628               NaN   2018-08-02   \n",
       " 30963               NaN   2021-04-21   \n",
       " \n",
       "                                             Crossing Jurisdiction  \\\n",
       " 8022         2300 BLK PARK AVE, LONG BEACH, CA 90815   LONG BEACH   \n",
       " 13248         5300 E WALTON ST, LONG BEACH, CA 90815   LONG BEACH   \n",
       " 27323     4500 BLK MONTAIR AVE, LONG BEACH, CA 90808   LONG BEACH   \n",
       " 28628  19TH ST / JUNIPERO AVE, SIGNAL HILL, CA 90755  SIGNAL HILL   \n",
       " 30963         7700 E SPRING ST, LONG BEACH, CA 90815   LONG BEACH   \n",
       " \n",
       "           Outcome Type Outcome Subtype   intake_is_dead outcome_is_dead  \\\n",
       " 8022   RETURN TO OWNER          WALKIN  Alive on Intake           False   \n",
       " 13248           RESCUE             NaN  Alive on Intake           False   \n",
       " 27323           RESCUE      SC REPTILE  Alive on Intake           False   \n",
       " 28628         ADOPTION          WALKIN  Alive on Intake           False   \n",
       " 30963           RESCUE        HOUSEOBC  Alive on Intake           False   \n",
       " \n",
       "        was_outcome_alive  \n",
       " 8022                   1  \n",
       " 13248                  1  \n",
       " 27323                  1  \n",
       " 28628                  1  \n",
       " 30963                  1  \n",
       " \n",
       " [5 rows x 21 columns],\n",
       "                count      mean       std       min       25%       50%  \\\n",
       " Animal Type                                                              \n",
       " AMPHIBIAN        1.0  2.099932       NaN  2.099932  2.099932  2.099932   \n",
       " BIRD          1203.0  5.653427  2.225307  1.240246  3.879535  5.779603   \n",
       " CAT          18255.0  5.899145  3.271295 -6.447639  3.485284  5.598905   \n",
       " DOG          12506.0  8.802982  4.332035  1.166324  5.741273  8.281999   \n",
       " GUINEA PIG     177.0  5.380047  2.545725  1.697467  2.841889  4.985626   \n",
       " LIVESTOCK       12.0  9.921059  7.586960  3.211499  5.152635  7.132101   \n",
       " OTHER         1097.0  5.014295  2.205860  1.158111  3.091034  5.322382   \n",
       " RABBIT         568.0  5.474998  2.404241  1.374401  3.446270  5.419576   \n",
       " REPTILE        211.0  8.489855  5.668229  1.626283  5.672827  7.786448   \n",
       " WILD           833.0  5.630168  2.298321  1.305955  3.961670  5.552361   \n",
       " \n",
       "                    75%        max  \n",
       " Animal Type                        \n",
       " AMPHIBIAN     2.099932   2.099932  \n",
       " BIRD          7.455168  17.382615  \n",
       " CAT           7.468857  26.757016  \n",
       " DOG          11.310062  27.931554  \n",
       " GUINEA PIG    7.794661  11.953457  \n",
       " LIVESTOCK    10.445585  26.913073  \n",
       " OTHER         6.562628  11.939767  \n",
       " RABBIT        7.277892  13.560575  \n",
       " REPTILE       9.835729  56.892539  \n",
       " WILD          7.444216  17.478439  )"
      ]
     },
     "execution_count": 18,
     "metadata": {},
     "output_type": "execute_result"
    }
   ],
   "source": [
    "# Checking for missing data in DOB\n",
    "missing_dob = data['DOB'].isnull().sum()\n",
    "data['DOB'] = pd.to_datetime(data['DOB'], errors='coerce')\n",
    "data['Age'] = (pd.to_datetime('today') - data['DOB']).dt.days / 365.25\n",
    "missing_age = data['Age'].isnull().sum()\n",
    "# Descriptive statistics of Age\n",
    "age_descriptive_stats = data['Age'].describe()\n",
    "\n",
    "# Identifying any implausible or invalid entries (negative ages, extremely high ages)\n",
    "implausible_ages = data[(data['Age'] < 0) | (data['Age'] > 30)]\n",
    "\n",
    "# Distribution of ages\n",
    "plt.hist(data['Age'].dropna(), bins=30, edgecolor='k')\n",
    "plt.xlabel('Age (years)')\n",
    "plt.ylabel('Frequency')\n",
    "plt.title('Distribution of Ages of Animals')\n",
    "plt.show()\n",
    "\n",
    "# Checking ages by animal type\n",
    "ages_by_type = data.groupby('Animal Type')['Age'].describe()\n",
    "\n",
    "# Output results\n",
    "missing_dob, missing_age, age_descriptive_stats, implausible_ages, ages_by_type"
   ]
  },
  {
   "cell_type": "markdown",
   "id": "9fa679a8",
   "metadata": {},
   "source": [
    "#### Ages by jurisdiction \n",
    "\n",
    "computed typical animal age by jurisdiction. Found out which three jurisdictions have the highest animal age.  Justified  choice of age by calculation and animal/jurisdiction grouping(s)."
   ]
  },
  {
   "cell_type": "code",
   "execution_count": 20,
   "id": "7d637a8f-9b02-4720-9375-75e1ee6329fe",
   "metadata": {},
   "outputs": [
    {
     "data": {
      "text/plain": [
       "Jurisdiction\n",
       "TORRANCE AC    18.384668\n",
       "DISTRICT2       9.607118\n",
       "DISTRICT7       9.182752\n",
       "Name: Age, dtype: float64"
      ]
     },
     "execution_count": 20,
     "metadata": {},
     "output_type": "execute_result"
    }
   ],
   "source": [
    "# Compute typical animal age by jurisdiction using the median to handle outliers and skewness\n",
    "age_by_jurisdiction_median = data.groupby('Jurisdiction')['Age'].median()\n",
    "\n",
    "# Sorting jurisdictions by median age to find the top three with the highest animal age\n",
    "top_jurisdictions_median = age_by_jurisdiction_median.sort_values(ascending=False).head(3)\n",
    "\n",
    "top_jurisdictions_median"
   ]
  },
  {
   "cell_type": "markdown",
   "id": "e9126b9b",
   "metadata": {},
   "source": [
    "#### Intake seasonality\n",
    "\n",
    "One may wonder whether intakes are in any way related to weather. We do not have weather information here but let’s analyze how intakes are related to seasons. Which seasons have the most intakes? Why might this be the case? In the communication of my analysis I used one graphical visualization and one tabular respresentation of the findings."
   ]
  },
  {
   "cell_type": "code",
   "execution_count": 22,
   "id": "62321159-d89a-4e1d-bfff-75999f073e99",
   "metadata": {},
   "outputs": [
    {
     "data": {
      "image/png": "[encoded data removed]",
      "text/plain": [
       "<Figure size 1000x600 with 1 Axes>"
      ]
     },
     "metadata": {},
     "output_type": "display_data"
    },
    {
     "data": {
      "text/html": [
       "<div>\n",
       "<style scoped>\n",
       "    .dataframe tbody tr th:only-of-type {\n",
       "        vertical-align: middle;\n",
       "    }\n",
       "\n",
       "    .dataframe tbody tr th {\n",
       "        vertical-align: top;\n",
       "    }\n",
       "\n",
       "    .dataframe thead th {\n",
       "        text-align: right;\n",
       "    }\n",
       "</style>\n",
       "<table border=\"1\" class=\"dataframe\">\n",
       "  <thead>\n",
       "    <tr style=\"text-align: right;\">\n",
       "      <th></th>\n",
       "      <th>Season</th>\n",
       "      <th>Number of Intakes</th>\n",
       "    </tr>\n",
       "  </thead>\n",
       "  <tbody>\n",
       "    <tr>\n",
       "      <th>0</th>\n",
       "      <td>Summer</td>\n",
       "      <td>13049</td>\n",
       "    </tr>\n",
       "    <tr>\n",
       "      <th>1</th>\n",
       "      <td>Spring</td>\n",
       "      <td>11589</td>\n",
       "    </tr>\n",
       "    <tr>\n",
       "      <th>2</th>\n",
       "      <td>Fall</td>\n",
       "      <td>8793</td>\n",
       "    </tr>\n",
       "    <tr>\n",
       "      <th>3</th>\n",
       "      <td>Winter</td>\n",
       "      <td>6455</td>\n",
       "    </tr>\n",
       "  </tbody>\n",
       "</table>\n",
       "</div>"
      ],
      "text/plain": [
       "   Season  Number of Intakes\n",
       "0  Summer              13049\n",
       "1  Spring              11589\n",
       "2    Fall               8793\n",
       "3  Winter               6455"
      ]
     },
     "execution_count": 22,
     "metadata": {},
     "output_type": "execute_result"
    }
   ],
   "source": [
    "# Extract the month from the intake date\n",
    "data['Intake Month'] = data['Intake Date'].dt.month\n",
    "\n",
    "# Define seasons based on months\n",
    "def month_to_season(month):\n",
    "    if month in [12, 1, 2]:\n",
    "        return 'Winter'\n",
    "    elif month in [3, 4, 5]:\n",
    "        return 'Spring'\n",
    "    elif month in [6, 7, 8]:\n",
    "        return 'Summer'\n",
    "    else:\n",
    "        return 'Fall'\n",
    "\n",
    "data['Season'] = data['Intake Month'].apply(month_to_season)\n",
    "\n",
    "# Count the number of intakes by season\n",
    "intakes_by_season = data['Season'].value_counts()\n",
    "\n",
    "# Convert to a DataFrame for tabular representation\n",
    "intakes_by_season_df = intakes_by_season.reset_index()\n",
    "intakes_by_season_df.columns = ['Season', 'Number of Intakes']\n",
    "\n",
    "# Plot the number of intakes by season\n",
    "plt.figure(figsize=(10, 6))\n",
    "plt.bar(intakes_by_season.index, intakes_by_season.values, color=['blue', 'green', 'orange', 'red'])\n",
    "plt.xlabel('Season')\n",
    "plt.ylabel('Number of Intakes')\n",
    "plt.title('Number of Intakes by Season')\n",
    "plt.show()\n",
    "\n",
    "# Display the DataFrame\n",
    "intakes_by_season_df"
   ]
  },
  {
   "cell_type": "markdown",
   "id": "2f016102",
   "metadata": {},
   "source": [
    "\n"
   ]
  },
  {
   "cell_type": "markdown",
   "id": "5c52f18a",
   "metadata": {},
   "source": [
    "### Challenging the Results\n",
    "\n",
    "In this section, I will reflect on the findings and discuss any concerns regarding the results:\n",
    "\n",
    "- **Original Question**: How well defined was the original question? After completing the analysis, I will reconsider if the initial question was specific enough and whether it aligns with the dataset's limitations.\n",
    "- **Feasibility of Answering the Question**: Based on the data and results, do I still believe this question can be fully answered using the provided dataset? I will evaluate the adequacy of the dataset for drawing valid conclusions.\n",
    "- **Ethical and Privacy Concerns**: I will discuss any ethical or privacy concerns raised during the analysis, especially if the dataset contains sensitive information. How does the analysis respect data privacy, and are there any risks associated with publishing or using the findings?"
   ]
  },
  {
   "cell_type": "code",
   "execution_count": 25,
   "id": "11e994db-f12e-4279-ab29-d76962c449a5",
   "metadata": {},
   "outputs": [
    {
     "data": {
      "text/plain": [
       "'The exploratory analyses highlighted concerns with data quality, including missing and implausible entries, which could \\naffect the accuracy of findings. While the dataset provides a basis for answering questions about typical animal ages and seasonal intakes,\\nthe interpretations should be cautious and acknowledge potential confounding factors. Ethical and privacy considerations are crucial, \\nparticularly regarding the anonymization of sensitive data and the responsible communication of findings.'"
      ]
     },
     "execution_count": 25,
     "metadata": {},
     "output_type": "execute_result"
    }
   ],
   "source": [
    "'''The exploratory analyses highlighted concerns with data quality, including missing and implausible entries, which could \n",
    "affect the accuracy of findings. While the dataset provides a basis for answering questions about typical animal ages and seasonal intakes,\n",
    "the interpretations should be cautious and acknowledge potential confounding factors. Ethical and privacy considerations are crucial, \n",
    "particularly regarding the anonymization of sensitive data and the responsible communication of findings.'''"
   ]
  },
  {
   "cell_type": "markdown",
   "id": "33781c7e",
   "metadata": {},
   "source": [
    "\n"
   ]
  },
  {
   "cell_type": "markdown",
   "id": "afbff300",
   "metadata": {},
   "source": [
    "### Pets returned to owner in Long Beach"
   ]
  },
  {
   "cell_type": "markdown",
   "id": "ad1da543",
   "metadata": {},
   "source": [
    "For this problem, only considered instances where the jurisdiction is Long Beach and the outcome is that the animal was returned to owner."
   ]
  },
  {
   "cell_type": "code",
   "execution_count": 29,
   "id": "f5694db9",
   "metadata": {},
   "outputs": [
    {
     "data": {
      "text/plain": [
       "3739"
      ]
     },
     "execution_count": 29,
     "metadata": {},
     "output_type": "execute_result"
    }
   ],
   "source": [
    "returned_to_owner_long_beach = data[(data['Jurisdiction'] == 'LONG BEACH') & (data['Outcome Type'] == 'RETURN TO OWNER')].shape[0]\n",
    "returned_to_owner_long_beach"
   ]
  },
  {
   "cell_type": "code",
   "execution_count": 30,
   "id": "f765f147-d414-4b94-8a90-9b1c92ed4032",
   "metadata": {},
   "outputs": [
    {
     "data": {
      "text/plain": [
       "3739"
      ]
     },
     "execution_count": 30,
     "metadata": {},
     "output_type": "execute_result"
    }
   ],
   "source": [
    "3739"
   ]
  },
  {
   "cell_type": "markdown",
   "id": "d184b777",
   "metadata": {},
   "source": [
    "#### How many types of animals?\n",
    "\n",
    "How many types of animals are in these records?"
   ]
  },
  {
   "cell_type": "code",
   "execution_count": 32,
   "id": "5ee932ed-9369-41a0-9c15-8c144b042bd4",
   "metadata": {},
   "outputs": [
    {
     "data": {
      "text/plain": [
       "8"
      ]
     },
     "execution_count": 32,
     "metadata": {},
     "output_type": "execute_result"
    }
   ],
   "source": [
    "long_beach_rto_data = data[(data['Jurisdiction'] == 'LONG BEACH') & (data['Outcome Type'] == 'RETURN TO OWNER')]\n",
    "\n",
    "# Count the number of unique animal types returned to their owners\n",
    "unique_animal_types_rto = long_beach_rto_data['Animal Type'].nunique()\n",
    "\n",
    "unique_animal_types_rto"
   ]
  },
  {
   "cell_type": "markdown",
   "id": "ccfb5389",
   "metadata": {},
   "source": [
    "#### Which types of animals?\n",
    "\n",
    "Which types of animals are present in the entire data set that are not present when looking at instances where the jurisdiction is Long Beach and the outcome is that the animal was returned to owner?"
   ]
  },
  {
   "cell_type": "code",
   "execution_count": 39,
   "id": "201c4c3f-2503-4628-a702-99970afd81eb",
   "metadata": {},
   "outputs": [
    {
     "data": {
      "text/plain": [
       "{'AMPHIBIAN', 'LIVESTOCK'}"
      ]
     },
     "execution_count": 39,
     "metadata": {},
     "output_type": "execute_result"
    }
   ],
   "source": [
    "# Unique animal types in the entire dataset\n",
    "unique_animal_types_all = set(data['Animal Type'].unique())\n",
    "\n",
    "# Unique animal types in the 'returned to owner' subset\n",
    "unique_animal_types_rto = set(long_beach_rto_data['Animal Type'].unique())\n",
    "\n",
    "# Animal types not returned to owner\n",
    "missing_animal_types = unique_animal_types_all - unique_animal_types_rto\n",
    "\n",
    "# Show missing types\n",
    "missing_animal_types"
   ]
  },
  {
   "cell_type": "markdown",
   "id": "8f97bc2f",
   "metadata": {},
   "source": [
    "#### How many of each type of animals?\n",
    "\n",
    "How many unique animals (not records) are there for each animal from Long Beach where the animal was returned to owner?"
   ]
  },
  {
   "cell_type": "code",
   "execution_count": 41,
   "id": "ccc911b7-88df-46b6-8f3b-92d23855cb5f",
   "metadata": {},
   "outputs": [
    {
     "data": {
      "text/plain": [
       "Animal Type\n",
       "BIRD            14\n",
       "CAT            368\n",
       "DOG           2993\n",
       "GUINEA PIG       2\n",
       "OTHER            1\n",
       "RABBIT           7\n",
       "REPTILE         15\n",
       "WILD             1\n",
       "Name: Animal ID, dtype: int64"
      ]
     },
     "execution_count": 41,
     "metadata": {},
     "output_type": "execute_result"
    }
   ],
   "source": [
    "# Count unique animals by type in Long Beach data\n",
    "animal_counts_by_type = long_beach_rto_data.groupby('Animal Type')['Animal ID'].nunique()\n",
    "animal_counts_by_type"
   ]
  },
  {
   "cell_type": "markdown",
   "id": "6246f68a",
   "metadata": {},
   "source": [
    "#### (e) Decreases during COVID\n",
    "\n",
    "Did all animal types see a decrease in intakes during 2020 compared to their pre-2020 annual average? Which animal types saw the largest numerical drop and the largest percent drop?"
   ]
  },
  {
   "cell_type": "code",
   "execution_count": 49,
   "id": "82b7870c-d4ef-414f-8597-461d23c4a545",
   "metadata": {},
   "outputs": [
    {
     "data": {
      "text/plain": [
       "('LIVESTOCK', 'LIVESTOCK')"
      ]
     },
     "execution_count": 49,
     "metadata": {},
     "output_type": "execute_result"
    }
   ],
   "source": [
    "# Convert 'Intake Date' to datetime and extract the year\n",
    "data['Intake Year'] = pd.to_datetime(data['Intake Date']).dt.year\n",
    "\n",
    "# Calculate pre-2020 average intake per animal type (using count of records as intake count)\n",
    "pre_2020_avg = data[data['Intake Year'] < 2020].groupby('Animal Type').size().mean()\n",
    "\n",
    "# Calculate intake in 2020\n",
    "intake_2020 = data[data['Intake Year'] == 2020].groupby('Animal Type').size()\n",
    "\n",
    "# Calculate the numerical and percentage drops\n",
    "numerical_drop = pre_2020_avg - intake_2020\n",
    "percentage_drop = (numerical_drop / pre_2020_avg) * 100\n",
    "\n",
    "# Display the largest numerical and percentage drops\n",
    "largest_numerical_drop = numerical_drop.idxmax()\n",
    "largest_percentage_drop = percentage_drop.idxmax()\n",
    "\n",
    "largest_numerical_drop, largest_percentage_drop"
   ]
  },
  {
   "cell_type": "markdown",
   "id": "bfd9d0ce",
   "metadata": {},
   "source": [
    "#### Reflect and Question \n",
    "\n",
    "What are your thoughts on the questions (and answers) for problem 3? Were you able to answer all of these questions? Are all questions well-defined? Is the data good enough to answer all these?"
   ]
  },
  {
   "cell_type": "markdown",
   "id": "5ea5ff5e-2cb1-47a4-b46c-ae241b7aba2c",
   "metadata": {},
   "source": [
    "The questions are straightforward and cover important points like intake trends and outcomes. That said, the one about the “largest percent drop” during COVID could use more detail on how exactly that’s being measured.\n",
    "\n",
    "The dataset is decent, but it’s missing external factors like shelter policies or government rules during COVID, which would help explain the trends better. There weren’t any big data quality issues, though if the dates were missing or wrong, it could throw off the results.\n",
    "\n",
    "In general, the questions were answerable with what’s available, but having more context on COVID’s impact would make the analysis stronger. Adding more variables or diving into some statistical models could also bring out more insights on what’s driving outcomes and intake trends."
   ]
  }
 ],
 "metadata": {
  "kernelspec": {
   "display_name": "Python 3 (ipykernel)",
   "language": "python",
   "name": "python3"
  },
  "language_info": {
   "codemirror_mode": {
    "name": "ipython",
    "version": 3
   },
   "file_extension": ".py",
   "mimetype": "text/x-python",
   "name": "python",
   "nbconvert_exporter": "python",
   "pygments_lexer": "ipython3",
   "version": "3.12.4"
  }
 },
 "nbformat": 4,
 "nbformat_minor": 5
}
