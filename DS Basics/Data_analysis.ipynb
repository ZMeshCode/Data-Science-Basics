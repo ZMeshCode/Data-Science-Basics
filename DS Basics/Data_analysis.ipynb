{
 "cells": [
  {
   "cell_type": "markdown",
   "id": "62d10178-5403-4e8c-bfd6-105e63cc6ee7",
   "metadata": {},
   "source": [
    "## Comic Book Gender Representation Analysis\n",
    "\n",
    "In this project, I will analyze gender representation in comic books using a dataset provided by **FiveThirtyEight**. The dataset contains detailed information about superheroes and villains from two major comic book publishers in the US: **DC** and **Marvel**.\n",
    "\n",
    "Key objectives:\n",
    "- **Data Import and Combination**: Import separate datasets for DC and Marvel characters and combine them into a single dataframe for analysis.\n",
    "- **Gender Representation Analysis**: Explore gender representation in comic books and examine trends across the two publishers.\n",
    "- **Data Visualization**: Use visualizations to highlight patterns and differences in gender portrayal between superheroes and villains in both publishers.\n",
    "\n",
    "This analysis aims to provide insights into how gender is represented in the comic book industry and whether significant differences exist between DC and Marvel."
   ]
  },
  {
   "cell_type": "code",
   "execution_count": 2,
   "id": "d8a2ad2c",
   "metadata": {},
   "outputs": [],
   "source": [
    "import pandas as pd\n",
    "import matplotlib.pyplot as plt\n",
    "import seaborn as sns"
   ]
  },
  {
   "cell_type": "code",
   "execution_count": 3,
   "id": "3d450f98",
   "metadata": {},
   "outputs": [],
   "source": [
    "url_dc = \"https://raw.githubusercontent.com/fivethirtyeight/data/master/comic-characters/dc-wikia-data.csv\"\n",
    "url_marvel = \"https://raw.githubusercontent.com/fivethirtyeight/data/master/comic-characters/marvel-wikia-data.csv\""
   ]
  },
  {
   "cell_type": "code",
   "execution_count": 4,
   "id": "7d552031",
   "metadata": {},
   "outputs": [],
   "source": [
    "dc_data = pd.read_csv(url_dc)\n",
    "marvel_data = pd.read_csv(url_marvel)"
   ]
  },
  {
   "cell_type": "code",
   "execution_count": 5,
   "id": "d6c5f4e5",
   "metadata": {},
   "outputs": [],
   "source": [
    "data_all = pd.concat([dc_data, marvel_data])"
   ]
  },
  {
   "cell_type": "code",
   "execution_count": 6,
   "id": "f41daf1c-b864-434b-9a80-43d04a8614ab",
   "metadata": {},
   "outputs": [
    {
     "data": {
      "text/html": [
       "<div>\n",
       "<style scoped>\n",
       "    .dataframe tbody tr th:only-of-type {\n",
       "        vertical-align: middle;\n",
       "    }\n",
       "\n",
       "    .dataframe tbody tr th {\n",
       "        vertical-align: top;\n",
       "    }\n",
       "\n",
       "    .dataframe thead th {\n",
       "        text-align: right;\n",
       "    }\n",
       "</style>\n",
       "<table border=\"1\" class=\"dataframe\">\n",
       "  <thead>\n",
       "    <tr style=\"text-align: right;\">\n",
       "      <th></th>\n",
       "      <th>page_id</th>\n",
       "      <th>name</th>\n",
       "      <th>urlslug</th>\n",
       "      <th>ID</th>\n",
       "      <th>ALIGN</th>\n",
       "      <th>EYE</th>\n",
       "      <th>HAIR</th>\n",
       "      <th>SEX</th>\n",
       "      <th>GSM</th>\n",
       "      <th>ALIVE</th>\n",
       "      <th>APPEARANCES</th>\n",
       "      <th>FIRST APPEARANCE</th>\n",
       "      <th>YEAR</th>\n",
       "      <th>Year</th>\n",
       "    </tr>\n",
       "  </thead>\n",
       "  <tbody>\n",
       "    <tr>\n",
       "      <th>0</th>\n",
       "      <td>1422</td>\n",
       "      <td>Batman (Bruce Wayne)</td>\n",
       "      <td>\\/wiki\\/Batman_(Bruce_Wayne)</td>\n",
       "      <td>Secret Identity</td>\n",
       "      <td>Good Characters</td>\n",
       "      <td>Blue Eyes</td>\n",
       "      <td>Black Hair</td>\n",
       "      <td>Male Characters</td>\n",
       "      <td>NaN</td>\n",
       "      <td>Living Characters</td>\n",
       "      <td>3093.0</td>\n",
       "      <td>1939, May</td>\n",
       "      <td>1939.0</td>\n",
       "      <td>NaN</td>\n",
       "    </tr>\n",
       "    <tr>\n",
       "      <th>1</th>\n",
       "      <td>23387</td>\n",
       "      <td>Superman (Clark Kent)</td>\n",
       "      <td>\\/wiki\\/Superman_(Clark_Kent)</td>\n",
       "      <td>Secret Identity</td>\n",
       "      <td>Good Characters</td>\n",
       "      <td>Blue Eyes</td>\n",
       "      <td>Black Hair</td>\n",
       "      <td>Male Characters</td>\n",
       "      <td>NaN</td>\n",
       "      <td>Living Characters</td>\n",
       "      <td>2496.0</td>\n",
       "      <td>1986, October</td>\n",
       "      <td>1986.0</td>\n",
       "      <td>NaN</td>\n",
       "    </tr>\n",
       "    <tr>\n",
       "      <th>2</th>\n",
       "      <td>1458</td>\n",
       "      <td>Green Lantern (Hal Jordan)</td>\n",
       "      <td>\\/wiki\\/Green_Lantern_(Hal_Jordan)</td>\n",
       "      <td>Secret Identity</td>\n",
       "      <td>Good Characters</td>\n",
       "      <td>Brown Eyes</td>\n",
       "      <td>Brown Hair</td>\n",
       "      <td>Male Characters</td>\n",
       "      <td>NaN</td>\n",
       "      <td>Living Characters</td>\n",
       "      <td>1565.0</td>\n",
       "      <td>1959, October</td>\n",
       "      <td>1959.0</td>\n",
       "      <td>NaN</td>\n",
       "    </tr>\n",
       "    <tr>\n",
       "      <th>3</th>\n",
       "      <td>1659</td>\n",
       "      <td>James Gordon (New Earth)</td>\n",
       "      <td>\\/wiki\\/James_Gordon_(New_Earth)</td>\n",
       "      <td>Public Identity</td>\n",
       "      <td>Good Characters</td>\n",
       "      <td>Brown Eyes</td>\n",
       "      <td>White Hair</td>\n",
       "      <td>Male Characters</td>\n",
       "      <td>NaN</td>\n",
       "      <td>Living Characters</td>\n",
       "      <td>1316.0</td>\n",
       "      <td>1987, February</td>\n",
       "      <td>1987.0</td>\n",
       "      <td>NaN</td>\n",
       "    </tr>\n",
       "    <tr>\n",
       "      <th>4</th>\n",
       "      <td>1576</td>\n",
       "      <td>Richard Grayson (New Earth)</td>\n",
       "      <td>\\/wiki\\/Richard_Grayson_(New_Earth)</td>\n",
       "      <td>Secret Identity</td>\n",
       "      <td>Good Characters</td>\n",
       "      <td>Blue Eyes</td>\n",
       "      <td>Black Hair</td>\n",
       "      <td>Male Characters</td>\n",
       "      <td>NaN</td>\n",
       "      <td>Living Characters</td>\n",
       "      <td>1237.0</td>\n",
       "      <td>1940, April</td>\n",
       "      <td>1940.0</td>\n",
       "      <td>NaN</td>\n",
       "    </tr>\n",
       "  </tbody>\n",
       "</table>\n",
       "</div>"
      ],
      "text/plain": [
       "   page_id                         name                              urlslug  \\\n",
       "0     1422         Batman (Bruce Wayne)         \\/wiki\\/Batman_(Bruce_Wayne)   \n",
       "1    23387        Superman (Clark Kent)        \\/wiki\\/Superman_(Clark_Kent)   \n",
       "2     1458   Green Lantern (Hal Jordan)   \\/wiki\\/Green_Lantern_(Hal_Jordan)   \n",
       "3     1659     James Gordon (New Earth)     \\/wiki\\/James_Gordon_(New_Earth)   \n",
       "4     1576  Richard Grayson (New Earth)  \\/wiki\\/Richard_Grayson_(New_Earth)   \n",
       "\n",
       "                ID            ALIGN         EYE        HAIR              SEX  \\\n",
       "0  Secret Identity  Good Characters   Blue Eyes  Black Hair  Male Characters   \n",
       "1  Secret Identity  Good Characters   Blue Eyes  Black Hair  Male Characters   \n",
       "2  Secret Identity  Good Characters  Brown Eyes  Brown Hair  Male Characters   \n",
       "3  Public Identity  Good Characters  Brown Eyes  White Hair  Male Characters   \n",
       "4  Secret Identity  Good Characters   Blue Eyes  Black Hair  Male Characters   \n",
       "\n",
       "   GSM              ALIVE  APPEARANCES FIRST APPEARANCE    YEAR  Year  \n",
       "0  NaN  Living Characters       3093.0        1939, May  1939.0   NaN  \n",
       "1  NaN  Living Characters       2496.0    1986, October  1986.0   NaN  \n",
       "2  NaN  Living Characters       1565.0    1959, October  1959.0   NaN  \n",
       "3  NaN  Living Characters       1316.0   1987, February  1987.0   NaN  \n",
       "4  NaN  Living Characters       1237.0      1940, April  1940.0   NaN  "
      ]
     },
     "execution_count": 6,
     "metadata": {},
     "output_type": "execute_result"
    }
   ],
   "source": [
    "data_all.head()"
   ]
  },
  {
   "cell_type": "markdown",
   "id": "e31a0ef2-1efa-4532-bd18-aa69a87a9d41",
   "metadata": {},
   "source": [
    "### Data Inspection\n",
    "\n",
    "Upon inspecting the dataset, several issues are apparent:\n",
    "- Significant missing data in the **GSM**, **EYE**, and **HAIR** columns, making them less useful for analysis.\n",
    "- The **ID** and **ALIGN** columns also contain substantial missing values.\n",
    "- Column naming inconsistencies, such as **YEAR** and **Year**, have resulted in separate columns.\n",
    "- Reliable columns include **page_id**, **name**, **urlslug**, and **ALIVE**, which have minimal or no missing data.\n",
    "\n",
    "Addressing these issues will be essential for a clean and effective analysis."
   ]
  },
  {
   "cell_type": "code",
   "execution_count": 8,
   "id": "40458506-1a51-4105-8027-35f61bb14ef0",
   "metadata": {},
   "outputs": [
    {
     "data": {
      "text/html": [
       "<div>\n",
       "<style scoped>\n",
       "    .dataframe tbody tr th:only-of-type {\n",
       "        vertical-align: middle;\n",
       "    }\n",
       "\n",
       "    .dataframe tbody tr th {\n",
       "        vertical-align: top;\n",
       "    }\n",
       "\n",
       "    .dataframe thead th {\n",
       "        text-align: right;\n",
       "    }\n",
       "</style>\n",
       "<table border=\"1\" class=\"dataframe\">\n",
       "  <thead>\n",
       "    <tr style=\"text-align: right;\">\n",
       "      <th></th>\n",
       "      <th>page_id</th>\n",
       "      <th>name</th>\n",
       "      <th>urlslug</th>\n",
       "      <th>ID</th>\n",
       "      <th>ALIGN</th>\n",
       "      <th>EYE</th>\n",
       "      <th>HAIR</th>\n",
       "      <th>SEX</th>\n",
       "      <th>GSM</th>\n",
       "      <th>ALIVE</th>\n",
       "      <th>APPEARANCES</th>\n",
       "      <th>FIRST APPEARANCE</th>\n",
       "      <th>YEAR</th>\n",
       "      <th>Year</th>\n",
       "    </tr>\n",
       "  </thead>\n",
       "  <tbody>\n",
       "    <tr>\n",
       "      <th>16371</th>\n",
       "      <td>657508</td>\n",
       "      <td>Ru'ach (Earth-616)</td>\n",
       "      <td>\\/Ru%27ach_(Earth-616)</td>\n",
       "      <td>No Dual Identity</td>\n",
       "      <td>Bad Characters</td>\n",
       "      <td>Green Eyes</td>\n",
       "      <td>No Hair</td>\n",
       "      <td>Male Characters</td>\n",
       "      <td>NaN</td>\n",
       "      <td>Living Characters</td>\n",
       "      <td>NaN</td>\n",
       "      <td>NaN</td>\n",
       "      <td>NaN</td>\n",
       "      <td>NaN</td>\n",
       "    </tr>\n",
       "    <tr>\n",
       "      <th>16372</th>\n",
       "      <td>665474</td>\n",
       "      <td>Thane (Thanos' son) (Earth-616)</td>\n",
       "      <td>\\/Thane_(Thanos%27_son)_(Earth-616)</td>\n",
       "      <td>No Dual Identity</td>\n",
       "      <td>Good Characters</td>\n",
       "      <td>Blue Eyes</td>\n",
       "      <td>Bald</td>\n",
       "      <td>Male Characters</td>\n",
       "      <td>NaN</td>\n",
       "      <td>Living Characters</td>\n",
       "      <td>NaN</td>\n",
       "      <td>NaN</td>\n",
       "      <td>NaN</td>\n",
       "      <td>NaN</td>\n",
       "    </tr>\n",
       "    <tr>\n",
       "      <th>16373</th>\n",
       "      <td>695217</td>\n",
       "      <td>Tinkerer (Skrull) (Earth-616)</td>\n",
       "      <td>\\/Tinkerer_(Skrull)_(Earth-616)</td>\n",
       "      <td>Secret Identity</td>\n",
       "      <td>Bad Characters</td>\n",
       "      <td>Black Eyes</td>\n",
       "      <td>Bald</td>\n",
       "      <td>Male Characters</td>\n",
       "      <td>NaN</td>\n",
       "      <td>Living Characters</td>\n",
       "      <td>NaN</td>\n",
       "      <td>NaN</td>\n",
       "      <td>NaN</td>\n",
       "      <td>NaN</td>\n",
       "    </tr>\n",
       "    <tr>\n",
       "      <th>16374</th>\n",
       "      <td>708811</td>\n",
       "      <td>TK421 (Spiderling) (Earth-616)</td>\n",
       "      <td>\\/TK421_(Spiderling)_(Earth-616)</td>\n",
       "      <td>Secret Identity</td>\n",
       "      <td>Neutral Characters</td>\n",
       "      <td>NaN</td>\n",
       "      <td>NaN</td>\n",
       "      <td>Male Characters</td>\n",
       "      <td>NaN</td>\n",
       "      <td>Living Characters</td>\n",
       "      <td>NaN</td>\n",
       "      <td>NaN</td>\n",
       "      <td>NaN</td>\n",
       "      <td>NaN</td>\n",
       "    </tr>\n",
       "    <tr>\n",
       "      <th>16375</th>\n",
       "      <td>673702</td>\n",
       "      <td>Yologarch (Earth-616)</td>\n",
       "      <td>\\/Yologarch_(Earth-616)</td>\n",
       "      <td>NaN</td>\n",
       "      <td>Bad Characters</td>\n",
       "      <td>NaN</td>\n",
       "      <td>NaN</td>\n",
       "      <td>NaN</td>\n",
       "      <td>NaN</td>\n",
       "      <td>Living Characters</td>\n",
       "      <td>NaN</td>\n",
       "      <td>NaN</td>\n",
       "      <td>NaN</td>\n",
       "      <td>NaN</td>\n",
       "    </tr>\n",
       "  </tbody>\n",
       "</table>\n",
       "</div>"
      ],
      "text/plain": [
       "       page_id                             name  \\\n",
       "16371   657508               Ru'ach (Earth-616)   \n",
       "16372   665474  Thane (Thanos' son) (Earth-616)   \n",
       "16373   695217    Tinkerer (Skrull) (Earth-616)   \n",
       "16374   708811   TK421 (Spiderling) (Earth-616)   \n",
       "16375   673702            Yologarch (Earth-616)   \n",
       "\n",
       "                                   urlslug                ID  \\\n",
       "16371               \\/Ru%27ach_(Earth-616)  No Dual Identity   \n",
       "16372  \\/Thane_(Thanos%27_son)_(Earth-616)  No Dual Identity   \n",
       "16373      \\/Tinkerer_(Skrull)_(Earth-616)   Secret Identity   \n",
       "16374     \\/TK421_(Spiderling)_(Earth-616)   Secret Identity   \n",
       "16375              \\/Yologarch_(Earth-616)               NaN   \n",
       "\n",
       "                    ALIGN         EYE     HAIR              SEX  GSM  \\\n",
       "16371      Bad Characters  Green Eyes  No Hair  Male Characters  NaN   \n",
       "16372     Good Characters   Blue Eyes     Bald  Male Characters  NaN   \n",
       "16373      Bad Characters  Black Eyes     Bald  Male Characters  NaN   \n",
       "16374  Neutral Characters         NaN      NaN  Male Characters  NaN   \n",
       "16375      Bad Characters         NaN      NaN              NaN  NaN   \n",
       "\n",
       "                   ALIVE  APPEARANCES FIRST APPEARANCE  YEAR  Year  \n",
       "16371  Living Characters          NaN              NaN   NaN   NaN  \n",
       "16372  Living Characters          NaN              NaN   NaN   NaN  \n",
       "16373  Living Characters          NaN              NaN   NaN   NaN  \n",
       "16374  Living Characters          NaN              NaN   NaN   NaN  \n",
       "16375  Living Characters          NaN              NaN   NaN   NaN  "
      ]
     },
     "execution_count": 8,
     "metadata": {},
     "output_type": "execute_result"
    }
   ],
   "source": [
    "data_all.tail()"
   ]
  },
  {
   "cell_type": "code",
   "execution_count": 9,
   "id": "e188785b-47f9-42a4-b2e0-4c1744bbcb62",
   "metadata": {},
   "outputs": [
    {
     "name": "stdout",
     "output_type": "stream",
     "text": [
      "<class 'pandas.core.frame.DataFrame'>\n",
      "Index: 23272 entries, 0 to 16375\n",
      "Data columns (total 14 columns):\n",
      " #   Column            Non-Null Count  Dtype  \n",
      "---  ------            --------------  -----  \n",
      " 0   page_id           23272 non-null  int64  \n",
      " 1   name              23272 non-null  object \n",
      " 2   urlslug           23272 non-null  object \n",
      " 3   ID                17489 non-null  object \n",
      " 4   ALIGN             19859 non-null  object \n",
      " 5   EYE               9877 non-null   object \n",
      " 6   HAIR              16734 non-null  object \n",
      " 7   SEX               22293 non-null  object \n",
      " 8   GSM               154 non-null    object \n",
      " 9   ALIVE             23266 non-null  object \n",
      " 10  APPEARANCES       21821 non-null  float64\n",
      " 11  FIRST APPEARANCE  22388 non-null  object \n",
      " 12  YEAR              6827 non-null   float64\n",
      " 13  Year              15561 non-null  float64\n",
      "dtypes: float64(3), int64(1), object(10)\n",
      "memory usage: 2.7+ MB\n"
     ]
    }
   ],
   "source": [
    "data_all.info()"
   ]
  },
  {
   "cell_type": "code",
   "execution_count": 10,
   "id": "cc83d9c1-45d9-407c-8640-a22dc353d792",
   "metadata": {},
   "outputs": [
    {
     "name": "stdout",
     "output_type": "stream",
     "text": [
      "page_id                 0\n",
      "name                    0\n",
      "urlslug                 0\n",
      "ID                   5783\n",
      "ALIGN                3413\n",
      "EYE                 13395\n",
      "HAIR                 6538\n",
      "SEX                   979\n",
      "GSM                 23118\n",
      "ALIVE                   6\n",
      "APPEARANCES          1451\n",
      "FIRST APPEARANCE      884\n",
      "YEAR                16445\n",
      "Year                 7711\n",
      "dtype: int64\n"
     ]
    }
   ],
   "source": [
    "combined_nan_counts = data_all.isna().sum()\n",
    "print(combined_nan_counts)"
   ]
  },
  {
   "cell_type": "markdown",
   "id": "16d0224b-cb9d-4ceb-89c8-aad784ac3c4d",
   "metadata": {},
   "source": [
    "### Formulate a Question\n",
    "\n",
    "How does the representation of different genders in terms of appearances in comic books differ between DC and Marvel comics?\n",
    "\n",
    "This question is interesting because comic books are a significant part of global pop culture, influencing millions of readers. By understanding gender representation in these stories, we can uncover potential cultural trends and biases that may exist in such influential media.\n",
    "\n",
    "### Data Analysis\n",
    "\n",
    "To answer the question, I will apply data science techniques to analyze the dataset.\n",
    "\n",
    "#### Initial Approach\n",
    "I will first filter out any anomalous values in the dataset. Then, using descriptive statistics, I will explore the data to get a general sense of how gender representation varies between DC and Marvel comics."
   ]
  },
  {
   "cell_type": "code",
   "execution_count": 12,
   "id": "546e6d8e",
   "metadata": {},
   "outputs": [],
   "source": [
    "valid_genders = ['Male Characters', 'Female Characters']\n",
    "filtered_data = data_all[data_all['SEX'].isin(valid_genders)]"
   ]
  },
  {
   "cell_type": "code",
   "execution_count": 13,
   "id": "f7b8e854-01ce-4c8a-b08f-71d4e24627a2",
   "metadata": {},
   "outputs": [],
   "source": [
    "filtered_data = filtered_data.dropna(subset=['APPEARANCES'])"
   ]
  },
  {
   "cell_type": "code",
   "execution_count": 14,
   "id": "54bd720d-f22b-431f-b197-bbea88a2217b",
   "metadata": {},
   "outputs": [
    {
     "data": {
      "text/html": [
       "<div>\n",
       "<style scoped>\n",
       "    .dataframe tbody tr th:only-of-type {\n",
       "        vertical-align: middle;\n",
       "    }\n",
       "\n",
       "    .dataframe tbody tr th {\n",
       "        vertical-align: top;\n",
       "    }\n",
       "\n",
       "    .dataframe thead th {\n",
       "        text-align: right;\n",
       "    }\n",
       "</style>\n",
       "<table border=\"1\" class=\"dataframe\">\n",
       "  <thead>\n",
       "    <tr style=\"text-align: right;\">\n",
       "      <th></th>\n",
       "      <th>count</th>\n",
       "      <th>mean</th>\n",
       "      <th>std</th>\n",
       "      <th>min</th>\n",
       "      <th>25%</th>\n",
       "      <th>50%</th>\n",
       "      <th>75%</th>\n",
       "      <th>max</th>\n",
       "    </tr>\n",
       "    <tr>\n",
       "      <th>SEX</th>\n",
       "      <th></th>\n",
       "      <th></th>\n",
       "      <th></th>\n",
       "      <th></th>\n",
       "      <th></th>\n",
       "      <th></th>\n",
       "      <th></th>\n",
       "      <th></th>\n",
       "    </tr>\n",
       "  </thead>\n",
       "  <tbody>\n",
       "    <tr>\n",
       "      <th>Female Characters</th>\n",
       "      <td>5479.0</td>\n",
       "      <td>21.039606</td>\n",
       "      <td>77.363117</td>\n",
       "      <td>1.0</td>\n",
       "      <td>2.0</td>\n",
       "      <td>5.0</td>\n",
       "      <td>13.0</td>\n",
       "      <td>1713.0</td>\n",
       "    </tr>\n",
       "    <tr>\n",
       "      <th>Male Characters</th>\n",
       "      <td>15426.0</td>\n",
       "      <td>19.027097</td>\n",
       "      <td>101.382031</td>\n",
       "      <td>1.0</td>\n",
       "      <td>1.0</td>\n",
       "      <td>4.0</td>\n",
       "      <td>10.0</td>\n",
       "      <td>4043.0</td>\n",
       "    </tr>\n",
       "  </tbody>\n",
       "</table>\n",
       "</div>"
      ],
      "text/plain": [
       "                     count       mean         std  min  25%  50%   75%     max\n",
       "SEX                                                                           \n",
       "Female Characters   5479.0  21.039606   77.363117  1.0  2.0  5.0  13.0  1713.0\n",
       "Male Characters    15426.0  19.027097  101.382031  1.0  1.0  4.0  10.0  4043.0"
      ]
     },
     "execution_count": 14,
     "metadata": {},
     "output_type": "execute_result"
    }
   ],
   "source": [
    "descriptive_stats = filtered_data.groupby('SEX')['APPEARANCES'].describe()\n",
    "descriptive_stats"
   ]
  },
  {
   "cell_type": "code",
   "execution_count": 15,
   "id": "0f9384b5-b3d0-4e3f-9ed1-ea77c4e76dba",
   "metadata": {},
   "outputs": [
    {
     "data": {
      "text/plain": [
       "Text(0, 0.5, 'Number of Appearances')"
      ]
     },
     "execution_count": 15,
     "metadata": {},
     "output_type": "execute_result"
    },
    {
     "data": {
      "image/png": "[encoded data removed]",
      "text/plain": [
       "<Figure size 1400x600 with 1 Axes>"
      ]
     },
     "metadata": {},
     "output_type": "display_data"
    }
   ],
   "source": [
    "filtered_data = filtered_data.reset_index(drop=True)\n",
    "\n",
    "plt.figure(figsize=(14, 6))\n",
    "\n",
    "\n",
    "plt.subplot(1, 2, 2)\n",
    "sns.stripplot(data=filtered_data, x='SEX', y='APPEARANCES', jitter=True, alpha=0.5)\n",
    "plt.title('Strip Plot of Appearances by Gender')\n",
    "plt.xlabel('Gender')\n",
    "plt.ylabel('Number of Appearances')"
   ]
  },
  {
   "cell_type": "code",
   "execution_count": 16,
   "id": "1b64f890-798e-418f-aadb-c59d91a7bd7a",
   "metadata": {},
   "outputs": [
    {
     "data": {
      "image/png": "[encoded data removed]",
      "text/plain": [
       "<Figure size 1200x600 with 1 Axes>"
      ]
     },
     "metadata": {},
     "output_type": "display_data"
    }
   ],
   "source": [
    "plt.figure(figsize=(12, 6))\n",
    "sns.histplot(data=filtered_data, x='APPEARANCES', hue='SEX', bins=50, kde=True)\n",
    "plt.title('Distribution of Appearances by Gender')\n",
    "plt.xlabel('Number of Appearances')\n",
    "plt.ylabel('Frequency')\n",
    "plt.xlim(0, 200)\n",
    "plt.legend(title='Gender', labels=['Male Characters', 'Female Characters'])\n",
    "plt.show()"
   ]
  },
  {
   "cell_type": "markdown",
   "id": "8dd456cd-ff0e-4c9f-8471-dd827c8957bf",
   "metadata": {},
   "source": [
    "### Leveraging Statistics for Deeper Insights\n",
    "\n",
    "To further explore the question, *How does the representation of different genders in terms of appearances in comic books differ between DC and Marvel comics?*, we can apply several statistical methods to gain deeper insights:\n",
    "\n",
    "- **Probability Statistics**: We can use probability to identify trends and project how gender representation may evolve in the future.\n",
    "- **Hypothesis Testing**: By comparing means between two groups (e.g., different periods or publishers), we can formulate a hypothesis and use statistical tests to evaluate differences in gender representation over time.\n",
    "\n",
    "**Potential Challenges**:\n",
    "- **Missing Data and Inconsistencies**: The presence of missing data may skew the results or limit the scope of analysis.\n",
    "- **Non-Normal Distribution**: If the data is not normally distributed, statistical tests such as the t-test may not be appropriate, limiting our ability to compare means.\n",
    "\n",
    "These considerations will guide how we approach the analysis and interpret the results."
   ]
  }
 ],
 "metadata": {
  "kernelspec": {
   "display_name": "Python 3 (ipykernel)",
   "language": "python",
   "name": "python3"
  },
  "language_info": {
   "codemirror_mode": {
    "name": "ipython",
    "version": 3
   },
   "file_extension": ".py",
   "mimetype": "text/x-python",
   "name": "python",
   "nbconvert_exporter": "python",
   "pygments_lexer": "ipython3",
   "version": "3.12.4"
  }
 },
 "nbformat": 4,
 "nbformat_minor": 5
}
