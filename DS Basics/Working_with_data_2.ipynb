{
 "cells": [
  {
   "cell_type": "markdown",
   "id": "1461b6bb",
   "metadata": {},
   "source": [
    "# IMT 573 - Problem Set 4 - Working With Data Part 2"
   ]
  },
  {
   "cell_type": "markdown",
   "id": "47a93d14-0251-4f05-9c00-f5ccaca70a7a",
   "metadata": {},
   "source": [
    "## Data Wrangling and API Integration\n",
    "\n",
    "In this lab, I will focus on advanced data wrangling techniques and integration of external data sources through APIs. The primary objectives include:\n",
    "\n",
    "1. **Data Cleaning and Preprocessing**: Address missing values and ensure data consistency.\n",
    "2. **API Integration**: Use external APIs to retrieve supplementary information, such as census tract data, and merge it with the existing dataset.\n",
    "3. **Data Analysis**: Analyze the integrated dataset to derive meaningful insights related to geographic locations and other variables.\n",
    "\n",
    "This lab emphasizes the importance of working with real-world data sources and the technical skills required to integrate and analyze multiple datasets effectively."
   ]
  },
  {
   "cell_type": "code",
   "execution_count": 3,
   "id": "03fe97f9",
   "metadata": {},
   "outputs": [],
   "source": [
    "import pandas as pd\n",
    "import censusgeocode as cg\n",
    "import seaborn as sns\n",
    "import matplotlib.pyplot as plt"
   ]
  },
  {
   "cell_type": "code",
   "execution_count": 4,
   "id": "10fd667b",
   "metadata": {},
   "outputs": [],
   "source": [
    "crime_data = pd.read_csv('crime_data.csv')"
   ]
  },
  {
   "cell_type": "markdown",
   "id": "df7a2e90",
   "metadata": {},
   "source": [
    "#### Basic inspection\n",
    "\n",
    "Perform a basic inspection of the Crime Dataset and discuss is found."
   ]
  },
  {
   "cell_type": "code",
   "execution_count": 6,
   "id": "fd317676-d251-49fe-bfc3-cfb877ca9955",
   "metadata": {},
   "outputs": [
    {
     "name": "stdout",
     "output_type": "stream",
     "text": [
      "<class 'pandas.core.frame.DataFrame'>\n",
      "RangeIndex: 523591 entries, 0 to 523590\n",
      "Data columns (total 11 columns):\n",
      " #   Column                       Non-Null Count   Dtype  \n",
      "---  ------                       --------------   -----  \n",
      " 0   Report Number                523591 non-null  int64  \n",
      " 1   Occurred Date                523589 non-null  object \n",
      " 2   Occurred Time                523589 non-null  float64\n",
      " 3   Reported Date                523591 non-null  object \n",
      " 4   Reported Time                523589 non-null  float64\n",
      " 5   Crime Subcategory            523329 non-null  object \n",
      " 6   Primary Offense Description  523591 non-null  object \n",
      " 7   Precinct                     523585 non-null  object \n",
      " 8   Sector                       520245 non-null  object \n",
      " 9   Beat                         520293 non-null  object \n",
      " 10  Neighborhood                 523591 non-null  object \n",
      "dtypes: float64(2), int64(1), object(8)\n",
      "memory usage: 43.9+ MB\n"
     ]
    }
   ],
   "source": [
    "crime_data.info()"
   ]
  },
  {
   "cell_type": "code",
   "execution_count": 7,
   "id": "ff530faa-0809-440f-9237-5606bb1ed5a6",
   "metadata": {},
   "outputs": [
    {
     "data": {
      "text/html": [
       "<div>\n",
       "<style scoped>\n",
       "    .dataframe tbody tr th:only-of-type {\n",
       "        vertical-align: middle;\n",
       "    }\n",
       "\n",
       "    .dataframe tbody tr th {\n",
       "        vertical-align: top;\n",
       "    }\n",
       "\n",
       "    .dataframe thead th {\n",
       "        text-align: right;\n",
       "    }\n",
       "</style>\n",
       "<table border=\"1\" class=\"dataframe\">\n",
       "  <thead>\n",
       "    <tr style=\"text-align: right;\">\n",
       "      <th></th>\n",
       "      <th>Report Number</th>\n",
       "      <th>Occurred Date</th>\n",
       "      <th>Occurred Time</th>\n",
       "      <th>Reported Date</th>\n",
       "      <th>Reported Time</th>\n",
       "      <th>Crime Subcategory</th>\n",
       "      <th>Primary Offense Description</th>\n",
       "      <th>Precinct</th>\n",
       "      <th>Sector</th>\n",
       "      <th>Beat</th>\n",
       "      <th>Neighborhood</th>\n",
       "    </tr>\n",
       "  </thead>\n",
       "  <tbody>\n",
       "    <tr>\n",
       "      <th>0</th>\n",
       "      <td>1975000079415</td>\n",
       "      <td>12/16/1975</td>\n",
       "      <td>900.0</td>\n",
       "      <td>12/16/1975</td>\n",
       "      <td>1500.0</td>\n",
       "      <td>BURGLARY-RESIDENTIAL</td>\n",
       "      <td>BURGLARY-FORCE-RES</td>\n",
       "      <td>SOUTH</td>\n",
       "      <td>R</td>\n",
       "      <td>R3</td>\n",
       "      <td>LAKEWOOD/SEWARD PARK</td>\n",
       "    </tr>\n",
       "    <tr>\n",
       "      <th>1</th>\n",
       "      <td>1976000069169</td>\n",
       "      <td>01/01/1976</td>\n",
       "      <td>1.0</td>\n",
       "      <td>01/31/1976</td>\n",
       "      <td>2359.0</td>\n",
       "      <td>SEX OFFENSE-OTHER</td>\n",
       "      <td>SEXOFF-INDECENT LIBERTIES</td>\n",
       "      <td>UNKNOWN</td>\n",
       "      <td>NaN</td>\n",
       "      <td>NaN</td>\n",
       "      <td>UNKNOWN</td>\n",
       "    </tr>\n",
       "    <tr>\n",
       "      <th>2</th>\n",
       "      <td>1979000049118</td>\n",
       "      <td>01/28/1979</td>\n",
       "      <td>1600.0</td>\n",
       "      <td>02/09/1979</td>\n",
       "      <td>1430.0</td>\n",
       "      <td>CAR PROWL</td>\n",
       "      <td>THEFT-CARPROWL</td>\n",
       "      <td>EAST</td>\n",
       "      <td>G</td>\n",
       "      <td>G2</td>\n",
       "      <td>CENTRAL AREA/SQUIRE PARK</td>\n",
       "    </tr>\n",
       "    <tr>\n",
       "      <th>3</th>\n",
       "      <td>19810000305573</td>\n",
       "      <td>08/22/1981</td>\n",
       "      <td>2029.0</td>\n",
       "      <td>08/22/1981</td>\n",
       "      <td>2030.0</td>\n",
       "      <td>HOMICIDE</td>\n",
       "      <td>HOMICIDE-PREMEDITATED-WEAPON</td>\n",
       "      <td>SOUTH</td>\n",
       "      <td>S</td>\n",
       "      <td>S2</td>\n",
       "      <td>BRIGHTON/DUNLAP</td>\n",
       "    </tr>\n",
       "    <tr>\n",
       "      <th>4</th>\n",
       "      <td>1981000076456</td>\n",
       "      <td>02/14/1981</td>\n",
       "      <td>2000.0</td>\n",
       "      <td>02/15/1981</td>\n",
       "      <td>435.0</td>\n",
       "      <td>BURGLARY-RESIDENTIAL</td>\n",
       "      <td>BURGLARY-FORCE-RES</td>\n",
       "      <td>SOUTHWEST</td>\n",
       "      <td>W</td>\n",
       "      <td>W3</td>\n",
       "      <td>ROXHILL/WESTWOOD/ARBOR HEIGHTS</td>\n",
       "    </tr>\n",
       "  </tbody>\n",
       "</table>\n",
       "</div>"
      ],
      "text/plain": [
       "    Report Number Occurred Date  Occurred Time Reported Date  Reported Time  \\\n",
       "0   1975000079415    12/16/1975          900.0    12/16/1975         1500.0   \n",
       "1   1976000069169    01/01/1976            1.0    01/31/1976         2359.0   \n",
       "2   1979000049118    01/28/1979         1600.0    02/09/1979         1430.0   \n",
       "3  19810000305573    08/22/1981         2029.0    08/22/1981         2030.0   \n",
       "4   1981000076456    02/14/1981         2000.0    02/15/1981          435.0   \n",
       "\n",
       "      Crime Subcategory   Primary Offense Description   Precinct Sector Beat  \\\n",
       "0  BURGLARY-RESIDENTIAL            BURGLARY-FORCE-RES      SOUTH      R   R3   \n",
       "1     SEX OFFENSE-OTHER     SEXOFF-INDECENT LIBERTIES    UNKNOWN    NaN  NaN   \n",
       "2             CAR PROWL                THEFT-CARPROWL       EAST      G   G2   \n",
       "3              HOMICIDE  HOMICIDE-PREMEDITATED-WEAPON      SOUTH      S   S2   \n",
       "4  BURGLARY-RESIDENTIAL            BURGLARY-FORCE-RES  SOUTHWEST      W   W3   \n",
       "\n",
       "                     Neighborhood  \n",
       "0            LAKEWOOD/SEWARD PARK  \n",
       "1                         UNKNOWN  \n",
       "2        CENTRAL AREA/SQUIRE PARK  \n",
       "3                 BRIGHTON/DUNLAP  \n",
       "4  ROXHILL/WESTWOOD/ARBOR HEIGHTS  "
      ]
     },
     "execution_count": 7,
     "metadata": {},
     "output_type": "execute_result"
    }
   ],
   "source": [
    "crime_data.head()"
   ]
  },
  {
   "cell_type": "code",
   "execution_count": 8,
   "id": "4b4d9a0a-ab36-4d1e-a1b0-de7c9533d1ac",
   "metadata": {},
   "outputs": [
    {
     "name": "stdout",
     "output_type": "stream",
     "text": [
      "Report Number                     0\n",
      "Occurred Date                     2\n",
      "Occurred Time                     2\n",
      "Reported Date                     0\n",
      "Reported Time                     2\n",
      "Crime Subcategory               262\n",
      "Primary Offense Description       0\n",
      "Precinct                          6\n",
      "Sector                         3346\n",
      "Beat                           3298\n",
      "Neighborhood                      0\n",
      "dtype: int64\n"
     ]
    }
   ],
   "source": [
    "missing_data = crime_data.isnull().sum()\n",
    "print(missing_data)\n"
   ]
  },
  {
   "cell_type": "code",
   "execution_count": 9,
   "id": "6b2bc11e-df48-4dc6-af80-ec5b00b407a6",
   "metadata": {},
   "outputs": [
    {
     "data": {
      "text/plain": [
       "'Sector and Beat have substantial missing data, with 3,346 and 3,298 missing values each, Crime Subcategory has 262 missing values, \\nOccurred Date, Occurred Time, and Reported Time have only 2 missing values each '"
      ]
     },
     "execution_count": 9,
     "metadata": {},
     "output_type": "execute_result"
    }
   ],
   "source": [
    "'''Sector and Beat have substantial missing data, with 3,346 and 3,298 missing values each, Crime Subcategory has 262 missing values, \n",
    "Occurred Date, Occurred Time, and Reported Time have only 2 missing values each '''"
   ]
  },
  {
   "cell_type": "markdown",
   "id": "41d0e70a",
   "metadata": {},
   "source": [
    "#### (b) Years of crimes\n",
    "\n",
    "Examine the years in which crimes were committed in the dataset. COnfirm the first year with crime. Find distinct trends with the annual number of crimes committed in the dataset."
   ]
  },
  {
   "cell_type": "code",
   "execution_count": 11,
   "id": "92b8f911",
   "metadata": {},
   "outputs": [],
   "source": [
    "# Convert 'Occurred Date' to datetime\n",
    "crime_data['Occurred Date'] = pd.to_datetime(crime_data['Occurred Date'], errors='coerce')"
   ]
  },
  {
   "cell_type": "code",
   "execution_count": 12,
   "id": "532feeec-b358-4934-9526-f1470db22131",
   "metadata": {},
   "outputs": [],
   "source": [
    "# Extract the year from 'Occurred Date'\n",
    "crime_data['Occurred Year'] = crime_data['Occurred Date'].dt.year"
   ]
  },
  {
   "cell_type": "code",
   "execution_count": 13,
   "id": "eefa4e1f-233a-4e59-ad7b-e3820fee12ab",
   "metadata": {},
   "outputs": [
    {
     "name": "stdout",
     "output_type": "stream",
     "text": [
      "Earliest Year: 1908.0\n"
     ]
    }
   ],
   "source": [
    "# Find the earliest year\n",
    "earliest_year = crime_data['Occurred Year'].min()\n",
    "print(\"Earliest Year:\", earliest_year)"
   ]
  },
  {
   "cell_type": "code",
   "execution_count": 14,
   "id": "a728b1e6-45b5-4a57-9dd0-9b9a56ec2af2",
   "metadata": {},
   "outputs": [
    {
     "name": "stdout",
     "output_type": "stream",
     "text": [
      "Crimes per Year:\n",
      "Occurred Year\n",
      "1908.0        1\n",
      "1964.0        1\n",
      "1973.0        1\n",
      "1974.0        1\n",
      "1975.0        2\n",
      "1976.0        2\n",
      "1977.0        1\n",
      "1978.0        1\n",
      "1979.0        2\n",
      "1980.0        2\n",
      "1981.0        2\n",
      "1985.0        2\n",
      "1986.0        1\n",
      "1987.0        1\n",
      "1988.0        1\n",
      "1989.0        1\n",
      "1990.0        2\n",
      "1991.0        4\n",
      "1993.0        5\n",
      "1994.0        2\n",
      "1995.0        6\n",
      "1996.0        4\n",
      "1997.0        5\n",
      "1998.0       20\n",
      "1999.0        8\n",
      "2000.0       40\n",
      "2001.0       53\n",
      "2002.0       17\n",
      "2003.0       29\n",
      "2004.0       43\n",
      "2005.0       49\n",
      "2006.0      100\n",
      "2007.0      627\n",
      "2008.0    42793\n",
      "2009.0    45056\n",
      "2010.0    43353\n",
      "2011.0    41298\n",
      "2012.0    41007\n",
      "2013.0    45551\n",
      "2014.0    49322\n",
      "2015.0    47693\n",
      "2016.0    49220\n",
      "2017.0    50334\n",
      "2018.0    51302\n",
      "2019.0    15624\n",
      "Name: count, dtype: int64\n"
     ]
    }
   ],
   "source": [
    "# Analyze the number of crimes per year\n",
    "crimes_per_year = crime_data['Occurred Year'].value_counts().sort_index()\n",
    "print(\"Crimes per Year:\")\n",
    "print(crimes_per_year)"
   ]
  },
  {
   "cell_type": "code",
   "execution_count": 15,
   "id": "a7d32e6d-0ea4-44bf-8907-bd047543a2de",
   "metadata": {},
   "outputs": [
    {
     "data": {
      "image/png": "[encoded data removed]",
      "text/plain": [
       "<Figure size 1200x600 with 1 Axes>"
      ]
     },
     "metadata": {},
     "output_type": "display_data"
    }
   ],
   "source": [
    "import matplotlib.pyplot as plt\n",
    "\n",
    "# Plot the number of crimes per year\n",
    "plt.figure(figsize=(12, 6))\n",
    "crimes_per_year.plot(kind='bar', color='skyblue')\n",
    "plt.title('Annual Number of Crimes (1908-2019)')\n",
    "plt.xlabel('Year')\n",
    "plt.ylabel('Number of Crimes')\n",
    "plt.xticks(rotation=45)\n",
    "plt.grid(True)\n",
    "plt.show()"
   ]
  },
  {
   "cell_type": "markdown",
   "id": "b27954b0",
   "metadata": {},
   "source": [
    "### Filtering Data on Years\n",
    "\n",
    "In this step, I will subset the dataset to only include crimes that were committed after 2011. This ensures we are working with the most relevant and recent data for our analysis. Following good practices of data provenance, I will retain a clean version of the original dataset and print the shape of the new subset to confirm the change."
   ]
  },
  {
   "cell_type": "code",
   "execution_count": 17,
   "id": "dffc292b-efe5-41ff-bc6d-f812c57670f4",
   "metadata": {},
   "outputs": [],
   "source": [
    "filtered_crime_data = crime_data[crime_data['Occurred Year'] > 2011]"
   ]
  },
  {
   "cell_type": "code",
   "execution_count": 18,
   "id": "06e99333-10ab-4b20-ba01-3c93f1538c94",
   "metadata": {},
   "outputs": [
    {
     "data": {
      "text/plain": [
       "(350053, 12)"
      ]
     },
     "execution_count": 18,
     "metadata": {},
     "output_type": "execute_result"
    }
   ],
   "source": [
    "filtered_crime_data.shape"
   ]
  },
  {
   "cell_type": "markdown",
   "id": "1c043a89",
   "metadata": {},
   "source": [
    "### Analyzing the Frequency of Police Beats\n",
    "\n",
    "Each crime record is associated with a police beat. In this step, I will examine how frequently each beat appears in the filtered crime dataset. The analysis will help identify any anomalies, such as missing beats or unusual frequencies, that may indicate issues with the data. This check is crucial for ensuring data accuracy before proceeding with further analysis."
   ]
  },
  {
   "cell_type": "code",
   "execution_count": 20,
   "id": "8b5457bf-66b8-450b-bef5-7a2dc840b0d0",
   "metadata": {},
   "outputs": [],
   "source": [
    "# Analyze the frequency of police beats in the filtered dataset\n",
    "beat_frequency_filtered = filtered_crime_data['Beat'].value_counts(dropna=False)"
   ]
  },
  {
   "cell_type": "code",
   "execution_count": 21,
   "id": "ecef01a1-7758-4708-a255-66f2be6a45a4",
   "metadata": {},
   "outputs": [
    {
     "data": {
      "text/plain": [
       "(Beat\n",
       " K3     11611\n",
       " M2     10210\n",
       " E2     10200\n",
       " U1     10157\n",
       " L2     10049\n",
       " M1      9883\n",
       " M3      9723\n",
       " B2      9253\n",
       " Q3      9249\n",
       " U3      9019\n",
       " U2      8866\n",
       " B3      8846\n",
       " Q2      8159\n",
       " D1      8066\n",
       " B1      7954\n",
       " N3      7517\n",
       " D2      7491\n",
       " E1      7459\n",
       " R2      7448\n",
       " N2      7409\n",
       " J3      7203\n",
       " E3      7032\n",
       " R3      6909\n",
       " K1      6611\n",
       " J2      6585\n",
       " K2      6560\n",
       " D3      6530\n",
       " W2      6514\n",
       " F2      6429\n",
       " R1      6080\n",
       " S3      6027\n",
       " L1      5823\n",
       " L3      5710\n",
       " C1      5694\n",
       " J1      5668\n",
       " Q1      5647\n",
       " F3      5361\n",
       " N1      5303\n",
       " W3      5286\n",
       " G2      5259\n",
       " S2      5139\n",
       " W1      5135\n",
       " S1      4819\n",
       " C2      4789\n",
       " C3      4726\n",
       " O1      4523\n",
       " F1      4332\n",
       " G3      4327\n",
       " G1      3257\n",
       " O3      3239\n",
       " O2      2894\n",
       " NaN     2054\n",
       " DET        7\n",
       " S          4\n",
       " W          3\n",
       " SS         1\n",
       " CTY        1\n",
       " WS         1\n",
       " N          1\n",
       " K          1\n",
       " Name: count, dtype: int64,\n",
       " 2054)"
      ]
     },
     "execution_count": 21,
     "metadata": {},
     "output_type": "execute_result"
    }
   ],
   "source": [
    "missing_beats_filtered = filtered_crime_data['Beat'].isnull().sum()\n",
    "beat_frequency_filtered, missing_beats_filtered"
   ]
  },
  {
   "cell_type": "code",
   "execution_count": 22,
   "id": "cc65c62f-8276-4378-b309-fd537aa72743",
   "metadata": {},
   "outputs": [
    {
     "data": {
      "text/plain": [
       "' The most frequent beats include K3, which appears 11,611 times, followed by M2 with 10,210 occurrences, E2 with 10,200, U1 with 10,157,\\nand L2 with 10,049 appearances. This high frequency suggests these beats cover areas with higher crime rates or more rigorous reporting. , \\nseveral anomalies are present in the dataset. Some beats have very low counts, such as DET appearing only 7 times, S appearing 4 times, \\nW appearing 3 times, and beats like SS, CTY, WS, N, and K appearing just once. These low-frequency entries could indicate data recording errors \\nAdditionally, there are 2,054 records with missing beat information, denoted as NaN '"
      ]
     },
     "execution_count": 22,
     "metadata": {},
     "output_type": "execute_result"
    }
   ],
   "source": [
    "''' The most frequent beats include K3, which appears 11,611 times, followed by M2 with 10,210 occurrences, E2 with 10,200, U1 with 10,157,\n",
    "and L2 with 10,049 appearances. This high frequency suggests these beats cover areas with higher crime rates or more rigorous reporting. , \n",
    "several anomalies are present in the dataset. Some beats have very low counts, such as DET appearing only 7 times, S appearing 4 times, \n",
    "W appearing 3 times, and beats like SS, CTY, WS, N, and K appearing just once. These low-frequency entries could indicate data recording errors \n",
    "Additionally, there are 2,054 records with missing beat information, denoted as NaN '''"
   ]
  },
  {
   "cell_type": "markdown",
   "id": "679acdf2",
   "metadata": {},
   "source": [
    "\n"
   ]
  },
  {
   "cell_type": "markdown",
   "id": "ecf822a6",
   "metadata": {},
   "source": [
    "### Police Beat Data\n",
    "\n",
    "In this step, I will load the data on Seattle police beats from the **Police_Beat_and_Precinct_Centerpoints.csv** file. This dataset contains geographic information related to police precincts and beats, which will be used in conjunction with the crime data for further analysis. The same data was used previously in Lab 4, and it provides essential context for understanding how crimes are distributed across different precincts and beats."
   ]
  },
  {
   "cell_type": "code",
   "execution_count": 25,
   "id": "547aa23e",
   "metadata": {},
   "outputs": [],
   "source": [
    "beats_data = pd.read_csv('Police_Beat_and_Precinct_Centerpoints.csv')"
   ]
  },
  {
   "cell_type": "markdown",
   "id": "b9ef575c",
   "metadata": {},
   "source": [
    "###  Missing Police Beats\n",
    "\n",
    "In this step, I will check whether the filtered Crime Dataset includes police beats that are not present in the Beats Dataset. Specifically, I will:\n",
    "- Identify how many missing beats exist and the frequency with which they occur.\n",
    "- Assess whether these missing beats represent a significant portion of the Crime Dataset or if they are relatively infrequent.\n",
    "- Evaluate whether removing these missing beats would drastically alter the overall scope and representativeness of the Crime Dataset."
   ]
  },
  {
   "cell_type": "code",
   "execution_count": 27,
   "id": "c0671110",
   "metadata": {
    "scrolled": true
   },
   "outputs": [
    {
     "name": "stdout",
     "output_type": "stream",
     "text": [
      "0.005910533547777051\n"
     ]
    }
   ],
   "source": [
    "# Extract the list of unique beats from the police beat data\n",
    "police_beats = beats_data['Name'].unique()\n",
    "\n",
    "# Identify beats in the filtered crime dataset that are not in the police beat dataset\n",
    "missing_beats_in_crime_data = filtered_crime_data[~filtered_crime_data['Beat'].isin(police_beats)]\n",
    "\n",
    "missing_beats_proportion = len(missing_beats_in_crime_data) / len(filtered_crime_data)\n",
    "print(missing_beats_proportion)"
   ]
  },
  {
   "cell_type": "code",
   "execution_count": 28,
   "id": "9dca7d68-8c1a-40d7-b0bd-d3af3234ed60",
   "metadata": {},
   "outputs": [],
   "source": [
    "# Using this function shown in class to see if the missing data is statistically significant.\n",
    "from scipy.stats import ks_2samp\n",
    "# Separate the dataset into two groups\n",
    "with_missing_beats = filtered_crime_data[filtered_crime_data['Beat'].isnull() | ~filtered_crime_data['Beat'].isin(police_beats)]\n",
    "without_missing_beats = filtered_crime_data[filtered_crime_data['Beat'].isin(police_beats)]"
   ]
  },
  {
   "cell_type": "code",
   "execution_count": 29,
   "id": "e7d7b08e-9f80-457f-bc2e-a9414aad0446",
   "metadata": {},
   "outputs": [],
   "source": [
    "# Extract a relevant  column to compare distributions,\n",
    "with_missing_beats_times = with_missing_beats['Occurred Time'].dropna()\n",
    "without_missing_beats_times = without_missing_beats['Occurred Time'].dropna()"
   ]
  },
  {
   "cell_type": "code",
   "execution_count": 30,
   "id": "7f088897-659d-4dd4-a7b3-832397c5eb3f",
   "metadata": {},
   "outputs": [
    {
     "data": {
      "text/plain": [
       "KstestResult(statistic=0.07316826964328133, pvalue=5.060954078272701e-10, statistic_location=1.0, statistic_sign=1)"
      ]
     },
     "execution_count": 30,
     "metadata": {},
     "output_type": "execute_result"
    }
   ],
   "source": [
    "ks_2samp(with_missing_beats_times, without_missing_beats_times)"
   ]
  },
  {
   "cell_type": "code",
   "execution_count": 31,
   "id": "21f82f7a-98c8-4414-b88d-a9bd181d3580",
   "metadata": {},
   "outputs": [],
   "source": [
    "#the very small p-value (5.06 \\times 10^{-10}) suggests that the difference between the distributions of the two samples is statistically significant."
   ]
  },
  {
   "cell_type": "markdown",
   "id": "c1a26216",
   "metadata": {},
   "source": [
    "\n"
   ]
  },
  {
   "cell_type": "markdown",
   "id": "0401ab94",
   "metadata": {},
   "source": [
    "### (b) Filtering Police Beats\n",
    "\n",
    "In this step, I will filter the Crime Dataset to remove:\n",
    "- Instances where the police beats occur fewer than 10 times in the dataset.\n",
    "- Any observations with missing beats.\n",
    "\n",
    "After applying these filters and only keeping the relevant years, I will calculate the number of remaining observations in the Crime Dataset to assess the size and representativeness of the filtered data."
   ]
  },
  {
   "cell_type": "code",
   "execution_count": 34,
   "id": "ddc530dd",
   "metadata": {},
   "outputs": [],
   "source": [
    "beat_counts = filtered_crime_data['Beat'].value_counts()\n",
    "frequent_beats = beat_counts[beat_counts >= 10].index"
   ]
  },
  {
   "cell_type": "code",
   "execution_count": 35,
   "id": "58af06a6-eb3e-49b6-8ab3-b3265c8e83f5",
   "metadata": {},
   "outputs": [
    {
     "data": {
      "text/plain": [
       "(347980, 12)"
      ]
     },
     "execution_count": 35,
     "metadata": {},
     "output_type": "execute_result"
    }
   ],
   "source": [
    "cleaned_crime_data_filtered = filtered_crime_data[filtered_crime_data['Beat'].isin(frequent_beats)].dropna(subset=['Beat'])\n",
    "cleaned_crime_data_filtered.shape"
   ]
  },
  {
   "cell_type": "markdown",
   "id": "aedd9923",
   "metadata": {},
   "source": [
    "### Adding Census Tract Information to Beats Dataset\n",
    "\n",
    "To integrate the Beats Dataset with census data, we need to have census tract information for each police beat. In a previous lab, I used an API to retrieve census tract data based on geographic coordinates. I will reuse that code to add a column named **\"tract\"** to the Beats Dataset.\n",
    "\n",
    "Following good practices of data provenance, I will ensure that the original data is kept intact while appending this new information for further analysis."
   ]
  },
  {
   "cell_type": "code",
   "execution_count": 37,
   "id": "2bfcbcf4",
   "metadata": {},
   "outputs": [],
   "source": [
    "def get_census_tract(lon, lat):\n",
    "    try:\n",
    "        result = cg.coordinates(x=lon, y=lat)\n",
    "        if result and 'Census Tracts' in result and result['Census Tracts']:\n",
    "            return result['Census Tracts'][0]['GEOID']\n",
    "        else:\n",
    "            return None\n",
    "    except Exception as e:\n",
    "        print(f\"Error retrieving census tract: {e}\")\n",
    "        return None\n",
    "def extract_11_digit_code(geoid):\n",
    "   \n",
    "    if geoid and len(geoid) == 12:\n",
    "        return geoid[:11]\n",
    "    return None"
   ]
  },
  {
   "cell_type": "markdown",
   "id": "fa9578da",
   "metadata": {},
   "source": [
    "### Process for Joining Datasets\n",
    "\n",
    "Before joining the Beats Dataset with the Crime Dataset, it’s important to consider whether it would have been more efficient to join the datasets first and then retrieve the census tracts. \n",
    "\n",
    "**Advantages of Joining First**:\n",
    "- Reduces the number of API calls if some beats are not present in the Crime Dataset, leading to a more efficient process.\n",
    "- Ensures that only relevant beats (those present in both datasets) are used for census tract retrieval.\n",
    "\n",
    "**Disadvantages**:\n",
    "- If the datasets are large, performing the join first could introduce complexity and slow down the process.\n",
    "- Finding census tracts beforehand ensures the integrity of the geographic information before merging with crime data, reducing the risk of data inconsistencies post-join.\n",
    "\n",
    "Understanding the advantages and disadvantages helps determine the most efficient workflow for joining and integrating data."
   ]
  },
  {
   "cell_type": "markdown",
   "id": "55afd3ff",
   "metadata": {},
   "source": [
    "\n"
   ]
  },
  {
   "cell_type": "markdown",
   "id": "26b6caf7",
   "metadata": {},
   "source": [
    "### Extracting 11-Digit Census Codes\n",
    "\n",
    "The census data uses an 11-digit code composed of the state, county, and tract codes (without the block code). To join the census data to the Beats Dataset, I will extract the 11-digit code for each beat. This code is made up of:\n",
    "- 2 digits for the state\n",
    "- 3 digits for the county\n",
    "- 6 digits for the tract\n",
    "\n",
    "I will add a new column named **census_id** to the (modified) Beats Dataset, storing these 11-digit codes as **int64** values to ensure proper format for further analysis and joins."
   ]
  },
  {
   "cell_type": "code",
   "execution_count": 41,
   "id": "bcd409c7",
   "metadata": {},
   "outputs": [],
   "source": [
    "# Apply the function to get the census tract for each row and add it as a new column 'tract'\n",
    "beats_data['tract'] = beats_data.apply(lambda row: get_census_tract(row['Longitude'], row['Latitude']), axis=1)\n",
    "\n",
    "# Extract the 11-digit census code and add it as a new column 'census_id'\n",
    "beats_data['census_id'] = beats_data['tract'].apply(extract_11_digit_code)\n",
    "\n",
    "# Convert the 'census_id' column to int64\n",
    "beats_data['census_id'] = beats_data['census_id'].astype('Int64')"
   ]
  },
  {
   "cell_type": "markdown",
   "id": "c99bfda7",
   "metadata": {},
   "source": [
    "### Extracting 11-Digit Codes from Census Data\n",
    "\n",
    "I will now examine the **census_data_2020_edu_attainment.csv** file, which contains education attainment counts across different census tracts. The dataset is currently in a \"wide\" format, but for now, I will work with it as is.\n",
    "\n",
    "The census data includes a **GEO_ID** column, where the characters after \"US\" encode the 11-digit census code (state, county, and tract) that aligns with the 11-digit codes extracted for the police beats. I will:\n",
    "- Extract the 11-digit code from the **GEO_ID** column.\n",
    "- Add a new column named **census_id** to the Census Dataset with the 11-digit code for each census observation.\n",
    "\n",
    "As always, I will follow good data provenance practices when modifying the dataset to ensure accuracy and traceability."
   ]
  },
  {
   "cell_type": "code",
   "execution_count": 43,
   "id": "79471ee2-827a-495e-b2c4-93f2927a9d83",
   "metadata": {},
   "outputs": [],
   "source": [
    "# Load the census dataset\n",
    "census_data = pd.read_csv('census_data_2020_edu_attainment.csv')"
   ]
  },
  {
   "cell_type": "code",
   "execution_count": 44,
   "id": "e0e54081",
   "metadata": {},
   "outputs": [
    {
     "data": {
      "text/plain": [
       "<bound method NDFrame.head of                    GEO_ID  Population 18 to 24 years  \\\n",
       "0    1400000US53033000101                        278   \n",
       "1    1400000US53033000102                        402   \n",
       "2    1400000US53033000201                        301   \n",
       "3    1400000US53033000202                        228   \n",
       "4    1400000US53033000300                        477   \n",
       "..                    ...                        ...   \n",
       "490  1400000US53033032704                        623   \n",
       "491  1400000US53033032705                        109   \n",
       "492  1400000US53033032706                        150   \n",
       "493  1400000US53033032800                        190   \n",
       "494  1400000US53033990100                          0   \n",
       "\n",
       "     Population 18 to 24 years-Less than high school graduate  \\\n",
       "0                                                   71          \n",
       "1                                                   50          \n",
       "2                                                    0          \n",
       "3                                                    0          \n",
       "4                                                   25          \n",
       "..                                                 ...          \n",
       "490                                                119          \n",
       "491                                                 80          \n",
       "492                                                 20          \n",
       "493                                                 10          \n",
       "494                                                  0          \n",
       "\n",
       "     Population 18 to 24 years-High school graduate (includes equivalency)  \\\n",
       "0                                                   17                       \n",
       "1                                                  125                       \n",
       "2                                                  234                       \n",
       "3                                                   54                       \n",
       "4                                                   60                       \n",
       "..                                                 ...                       \n",
       "490                                                277                       \n",
       "491                                                 15                       \n",
       "492                                                 64                       \n",
       "493                                                 54                       \n",
       "494                                                  0                       \n",
       "\n",
       "     Population 18 to 24 years-Some college or associate's degree  \\\n",
       "0                                                   90              \n",
       "1                                                  104              \n",
       "2                                                   53              \n",
       "3                                                  102              \n",
       "4                                                  318              \n",
       "..                                                 ...              \n",
       "490                                                183              \n",
       "491                                                 14              \n",
       "492                                                 45              \n",
       "493                                                116              \n",
       "494                                                  0              \n",
       "\n",
       "     Population 18 to 24 years-Bachelor's degree or higher  \\\n",
       "0                                                  100       \n",
       "1                                                  123       \n",
       "2                                                   14       \n",
       "3                                                   72       \n",
       "4                                                   74       \n",
       "..                                                 ...       \n",
       "490                                                 44       \n",
       "491                                                  0       \n",
       "492                                                 21       \n",
       "493                                                 10       \n",
       "494                                                  0       \n",
       "\n",
       "     Population 25 years and over  \\\n",
       "0                            2718   \n",
       "1                            3578   \n",
       "2                            3616   \n",
       "3                            3194   \n",
       "4                            1933   \n",
       "..                            ...   \n",
       "490                          5243   \n",
       "491                          2606   \n",
       "492                          2134   \n",
       "493                          2085   \n",
       "494                             0   \n",
       "\n",
       "     Population 25 years and over-Less than 9th grade  \\\n",
       "0                                                 187   \n",
       "1                                                  75   \n",
       "2                                                  15   \n",
       "3                                                  69   \n",
       "4                                                  41   \n",
       "..                                                ...   \n",
       "490                                               215   \n",
       "491                                                12   \n",
       "492                                                 3   \n",
       "493                                                14   \n",
       "494                                                 0   \n",
       "\n",
       "     Population 25 years and over-9th to 12th grade, no diploma  \\\n",
       "0                                                   80            \n",
       "1                                                  172            \n",
       "2                                                  232            \n",
       "3                                                  187            \n",
       "4                                                  113            \n",
       "..                                                 ...            \n",
       "490                                                167            \n",
       "491                                                 31            \n",
       "492                                                 46            \n",
       "493                                                 66            \n",
       "494                                                  0            \n",
       "\n",
       "     Population 25 years and over-High school graduate (includes equivalency)  \\\n",
       "0                                                  492                          \n",
       "1                                                  717                          \n",
       "2                                                  412                          \n",
       "3                                                  443                          \n",
       "4                                                  189                          \n",
       "..                                                 ...                          \n",
       "490                                                629                          \n",
       "491                                                551                          \n",
       "492                                                501                          \n",
       "493                                                363                          \n",
       "494                                                  0                          \n",
       "\n",
       "     Population 25 years and over-Some college, no degree  \\\n",
       "0                                                  362      \n",
       "1                                                  379      \n",
       "2                                                  512      \n",
       "3                                                  406      \n",
       "4                                                  342      \n",
       "..                                                 ...      \n",
       "490                                               1198      \n",
       "491                                                555      \n",
       "492                                                517      \n",
       "493                                                470      \n",
       "494                                                  0      \n",
       "\n",
       "     Population 25 years and over-Associate's degree  \\\n",
       "0                                                250   \n",
       "1                                                315   \n",
       "2                                                199   \n",
       "3                                                179   \n",
       "4                                                223   \n",
       "..                                               ...   \n",
       "490                                              478   \n",
       "491                                              220   \n",
       "492                                              348   \n",
       "493                                              216   \n",
       "494                                                0   \n",
       "\n",
       "     Population 25 years and over-Bachelor's degree  \\\n",
       "0                                               949   \n",
       "1                                               981   \n",
       "2                                              1242   \n",
       "3                                              1174   \n",
       "4                                               639   \n",
       "..                                              ...   \n",
       "490                                            1593   \n",
       "491                                             718   \n",
       "492                                             640   \n",
       "493                                             640   \n",
       "494                                               0   \n",
       "\n",
       "     Population 25 years and over-Graduate or professional degree  \\\n",
       "0                                                  398              \n",
       "1                                                  939              \n",
       "2                                                 1004              \n",
       "3                                                  736              \n",
       "4                                                  386              \n",
       "..                                                 ...              \n",
       "490                                                963              \n",
       "491                                                519              \n",
       "492                                                 79              \n",
       "493                                                316              \n",
       "494                                                  0              \n",
       "\n",
       "     Population 25 years and over-High school graduate or higher  \\\n",
       "0                                                 2451             \n",
       "1                                                 3331             \n",
       "2                                                 3369             \n",
       "3                                                 2938             \n",
       "4                                                 1779             \n",
       "..                                                 ...             \n",
       "490                                               4861             \n",
       "491                                               2563             \n",
       "492                                               2085             \n",
       "493                                               2005             \n",
       "494                                                  0             \n",
       "\n",
       "     Population 25 years and over-Bachelor's degree or higher census_id  \n",
       "0                                                 1347             None  \n",
       "1                                                 1920             None  \n",
       "2                                                 2246             None  \n",
       "3                                                 1910             None  \n",
       "4                                                 1025             None  \n",
       "..                                                 ...              ...  \n",
       "490                                               2556             None  \n",
       "491                                               1237             None  \n",
       "492                                                719             None  \n",
       "493                                                956             None  \n",
       "494                                                  0             None  \n",
       "\n",
       "[495 rows x 17 columns]>"
      ]
     },
     "execution_count": 44,
     "metadata": {},
     "output_type": "execute_result"
    }
   ],
   "source": [
    "def extract_census_id(geo_id):\n",
    "    if geo_id and geo_id.startswith('US'):\n",
    "        return geo_id[2:2+11]  # Extract the 11 digits after 'US'\n",
    "    return None\n",
    "\n",
    "# Apply the function to extract the 11-digit code and add it as a new column 'census_id'\n",
    "census_data['census_id'] = census_data['GEO_ID'].apply(extract_census_id)\n",
    "census_data.head"
   ]
  },
  {
   "cell_type": "markdown",
   "id": "e22e584f",
   "metadata": {},
   "source": [
    "### Joining Census Data with Beats Dataset\n",
    "\n",
    "In this step, I will join the **Census Data** with the (modified) **Beats Dataset** using the 11-digit codes as the keys. It's important to ensure that no police beats are lost during the join, meaning the output dataset should retain the same number of rows as the cleaned Beats Dataset. \n",
    "\n",
    "Tasks to complete:\n",
    "- Perform the join using the appropriate method to preserve all police beats.\n",
    "- Check if there are any police beats that do not have associated census data, and if so, determine how many.\n",
    "\n",
    "The resulting joined dataset will be saved in a new variable to avoid overwriting the original Beats or Census Datasets."
   ]
  },
  {
   "cell_type": "code",
   "execution_count": 46,
   "id": "d75473fa",
   "metadata": {},
   "outputs": [],
   "source": [
    "# Ensure both census_id columns are the same type \n",
    "beats_data['census_id'] = beats_data['census_id'].astype('str')\n",
    "census_data['census_id'] = census_data['census_id'].astype('str')\n",
    "\n",
    "merged_data = pd.merge(beats_data, census_data, on='census_id', how='left')"
   ]
  },
  {
   "cell_type": "code",
   "execution_count": 47,
   "id": "9494127e-c1fb-42a4-8560-7289a74f3061",
   "metadata": {},
   "outputs": [
    {
     "name": "stdout",
     "output_type": "stream",
     "text": [
      "Number of police beats without associated census data: 57\n"
     ]
    }
   ],
   "source": [
    "beats_without_census_data = merged_data[merged_data.isnull().any(axis=1)]\n",
    "print(\"Number of police beats without associated census data:\", beats_without_census_data.shape[0])"
   ]
  },
  {
   "cell_type": "markdown",
   "id": "9746e974",
   "metadata": {},
   "source": [
    "### Joining Crime Dataset with Beat/Census Data\n",
    "\n",
    "Next, I will join the **Crime Dataset** with the previously joined **Beat/Census Data** using the police beat name as the key. It's crucial to ensure that no observations are lost from the filtered Crime Dataset during this join.\n",
    "\n",
    "Tasks to complete:\n",
    "- Perform the join using the police beat name as the key.\n",
    "- Verify that all observations from the Crime Dataset are preserved.\n",
    "- Check the final dimensions of the fully joined dataset and save it for future use in subsequent problem sets."
   ]
  },
  {
   "cell_type": "code",
   "execution_count": 49,
   "id": "67cfff1a",
   "metadata": {},
   "outputs": [
    {
     "name": "stdout",
     "output_type": "stream",
     "text": [
      "Final dimensions of the joined dataset: (523591, 34)\n"
     ]
    }
   ],
   "source": [
    "merged_beats_census_data = beats_without_census_data\n",
    "crime_data['Beat'] = crime_data['Beat'].astype(str)\n",
    "final_merged_data = pd.merge(crime_data, merged_beats_census_data, left_on='Beat', right_on='Name', how='left')\n",
    "print(\"Final dimensions of the joined dataset:\", final_merged_data.shape)"
   ]
  },
  {
   "cell_type": "code",
   "execution_count": 50,
   "id": "f043bf3e-7a63-407b-8dca-1b1a31dd320f",
   "metadata": {},
   "outputs": [],
   "source": [
    "# Save the final joined dataset to a new CSV file\n",
    "output_final_merged_file_path = 'Final_Merged_Crime_Beats_Census_Data.csv' \n",
    "final_merged_data.to_csv(output_final_merged_file_path, index=False)"
   ]
  }
 ],
 "metadata": {
  "kernelspec": {
   "display_name": "Python 3 (ipykernel)",
   "language": "python",
   "name": "python3"
  },
  "language_info": {
   "codemirror_mode": {
    "name": "ipython",
    "version": 3
   },
   "file_extension": ".py",
   "mimetype": "text/x-python",
   "name": "python",
   "nbconvert_exporter": "python",
   "pygments_lexer": "ipython3",
   "version": "3.12.4"
  }
 },
 "nbformat": 4,
 "nbformat_minor": 5
}
